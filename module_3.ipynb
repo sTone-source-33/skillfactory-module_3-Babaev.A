{
 "cells": [
  {
   "cell_type": "code",
   "execution_count": 140,
   "metadata": {},
   "outputs": [],
   "source": [
    "import pandas as pd\n",
    "import numpy as np\n",
    "from statistics import mean\n",
    "import requests\n",
    "from bs4 import BeautifulSoup\n",
    "import re\n",
    "import datetime\n",
    "import matplotlib.pyplot as plt\n",
    "import seaborn as sns\n",
    "%matplotlib inline"
   ]
  },
  {
   "cell_type": "markdown",
   "metadata": {},
   "source": [
    "* Restaurant_id — идентификационный номер ресторана / сети ресторанов;\n",
    "* City — город, в котором находится ресторан;\n",
    "* Cuisine Style — кухня или кухни, к которым можно отнести блюда, предлагаемые в ресторане;\n",
    "* Ranking — место, которое занимает данный ресторан среди всех ресторанов своего города;\n",
    "* Rating — рейтинг ресторана по данным TripAdvisor (именно это значение должна будет предсказывать модель);\n",
    "* Price Range — диапазон цен в ресторане;\n",
    "* Number of Reviews — количество отзывов о ресторане;\n",
    "* Reviews — данные о двух отзывах, которые отображаются на сайте ресторана;\n",
    "* URL_TA — URL страницы ресторана на TripAdvosor;\n",
    "* ID_TA — идентификатор ресторана в базе данных TripAdvisor."
   ]
  },
  {
   "cell_type": "code",
   "execution_count": 141,
   "metadata": {},
   "outputs": [],
   "source": [
    "main_task = pd.read_csv('main_task.xls')"
   ]
  },
  {
   "cell_type": "markdown",
   "metadata": {},
   "source": [
    "Смотрим на данные"
   ]
  },
  {
   "cell_type": "code",
   "execution_count": 142,
   "metadata": {},
   "outputs": [
    {
     "data": {
      "text/html": [
       "<div>\n",
       "<style scoped>\n",
       "    .dataframe tbody tr th:only-of-type {\n",
       "        vertical-align: middle;\n",
       "    }\n",
       "\n",
       "    .dataframe tbody tr th {\n",
       "        vertical-align: top;\n",
       "    }\n",
       "\n",
       "    .dataframe thead th {\n",
       "        text-align: right;\n",
       "    }\n",
       "</style>\n",
       "<table border=\"1\" class=\"dataframe\">\n",
       "  <thead>\n",
       "    <tr style=\"text-align: right;\">\n",
       "      <th></th>\n",
       "      <th>Restaurant_id</th>\n",
       "      <th>City</th>\n",
       "      <th>Cuisine Style</th>\n",
       "      <th>Ranking</th>\n",
       "      <th>Rating</th>\n",
       "      <th>Price Range</th>\n",
       "      <th>Number of Reviews</th>\n",
       "      <th>Reviews</th>\n",
       "      <th>URL_TA</th>\n",
       "      <th>ID_TA</th>\n",
       "    </tr>\n",
       "  </thead>\n",
       "  <tbody>\n",
       "    <tr>\n",
       "      <th>0</th>\n",
       "      <td>id_5569</td>\n",
       "      <td>Paris</td>\n",
       "      <td>['European', 'French', 'International']</td>\n",
       "      <td>5570.0</td>\n",
       "      <td>3.5</td>\n",
       "      <td>$$ - $$$</td>\n",
       "      <td>194.0</td>\n",
       "      <td>[['Good food at your doorstep', 'A good hotel ...</td>\n",
       "      <td>/Restaurant_Review-g187147-d1912643-Reviews-R_...</td>\n",
       "      <td>d1912643</td>\n",
       "    </tr>\n",
       "    <tr>\n",
       "      <th>1</th>\n",
       "      <td>id_1535</td>\n",
       "      <td>Stockholm</td>\n",
       "      <td>NaN</td>\n",
       "      <td>1537.0</td>\n",
       "      <td>4.0</td>\n",
       "      <td>NaN</td>\n",
       "      <td>10.0</td>\n",
       "      <td>[['Unique cuisine', 'Delicious Nepalese food']...</td>\n",
       "      <td>/Restaurant_Review-g189852-d7992032-Reviews-Bu...</td>\n",
       "      <td>d7992032</td>\n",
       "    </tr>\n",
       "    <tr>\n",
       "      <th>2</th>\n",
       "      <td>id_352</td>\n",
       "      <td>London</td>\n",
       "      <td>['Japanese', 'Sushi', 'Asian', 'Grill', 'Veget...</td>\n",
       "      <td>353.0</td>\n",
       "      <td>4.5</td>\n",
       "      <td>$$$$</td>\n",
       "      <td>688.0</td>\n",
       "      <td>[['Catch up with friends', 'Not exceptional'],...</td>\n",
       "      <td>/Restaurant_Review-g186338-d8632781-Reviews-RO...</td>\n",
       "      <td>d8632781</td>\n",
       "    </tr>\n",
       "    <tr>\n",
       "      <th>3</th>\n",
       "      <td>id_3456</td>\n",
       "      <td>Berlin</td>\n",
       "      <td>NaN</td>\n",
       "      <td>3458.0</td>\n",
       "      <td>5.0</td>\n",
       "      <td>NaN</td>\n",
       "      <td>3.0</td>\n",
       "      <td>[[], []]</td>\n",
       "      <td>/Restaurant_Review-g187323-d1358776-Reviews-Es...</td>\n",
       "      <td>d1358776</td>\n",
       "    </tr>\n",
       "    <tr>\n",
       "      <th>4</th>\n",
       "      <td>id_615</td>\n",
       "      <td>Munich</td>\n",
       "      <td>['German', 'Central European', 'Vegetarian Fri...</td>\n",
       "      <td>621.0</td>\n",
       "      <td>4.0</td>\n",
       "      <td>$$ - $$$</td>\n",
       "      <td>84.0</td>\n",
       "      <td>[['Best place to try a Bavarian food', 'Nice b...</td>\n",
       "      <td>/Restaurant_Review-g187309-d6864963-Reviews-Au...</td>\n",
       "      <td>d6864963</td>\n",
       "    </tr>\n",
       "  </tbody>\n",
       "</table>\n",
       "</div>"
      ],
      "text/plain": [
       "  Restaurant_id       City                                      Cuisine Style  \\\n",
       "0       id_5569      Paris            ['European', 'French', 'International']   \n",
       "1       id_1535  Stockholm                                                NaN   \n",
       "2        id_352     London  ['Japanese', 'Sushi', 'Asian', 'Grill', 'Veget...   \n",
       "3       id_3456     Berlin                                                NaN   \n",
       "4        id_615     Munich  ['German', 'Central European', 'Vegetarian Fri...   \n",
       "\n",
       "   Ranking  Rating Price Range  Number of Reviews  \\\n",
       "0   5570.0     3.5    $$ - $$$              194.0   \n",
       "1   1537.0     4.0         NaN               10.0   \n",
       "2    353.0     4.5        $$$$              688.0   \n",
       "3   3458.0     5.0         NaN                3.0   \n",
       "4    621.0     4.0    $$ - $$$               84.0   \n",
       "\n",
       "                                             Reviews  \\\n",
       "0  [['Good food at your doorstep', 'A good hotel ...   \n",
       "1  [['Unique cuisine', 'Delicious Nepalese food']...   \n",
       "2  [['Catch up with friends', 'Not exceptional'],...   \n",
       "3                                           [[], []]   \n",
       "4  [['Best place to try a Bavarian food', 'Nice b...   \n",
       "\n",
       "                                              URL_TA     ID_TA  \n",
       "0  /Restaurant_Review-g187147-d1912643-Reviews-R_...  d1912643  \n",
       "1  /Restaurant_Review-g189852-d7992032-Reviews-Bu...  d7992032  \n",
       "2  /Restaurant_Review-g186338-d8632781-Reviews-RO...  d8632781  \n",
       "3  /Restaurant_Review-g187323-d1358776-Reviews-Es...  d1358776  \n",
       "4  /Restaurant_Review-g187309-d6864963-Reviews-Au...  d6864963  "
      ]
     },
     "execution_count": 142,
     "metadata": {},
     "output_type": "execute_result"
    }
   ],
   "source": [
    "main_task.head()"
   ]
  },
  {
   "cell_type": "markdown",
   "metadata": {},
   "source": [
    "Для удобства использования pandas напишем все столбцы с маленькой буквы:"
   ]
  },
  {
   "cell_type": "code",
   "execution_count": 143,
   "metadata": {},
   "outputs": [],
   "source": [
    "main_task.columns = ['restaurant_id', 'city', 'cuisine_style',\n",
    "                     'ranking', 'rating', 'price_range', 'number_of_reviews', 'reviews', 'url_ta', 'id_ta']"
   ]
  },
  {
   "cell_type": "markdown",
   "metadata": {},
   "source": [
    "## Функции для забора данных с внешних источников"
   ]
  },
  {
   "cell_type": "code",
   "execution_count": 144,
   "metadata": {},
   "outputs": [],
   "source": [
    "def data_collector(row):\n",
    "    '''Функция получает строку датафрейма на вход и пытается собрать данные с внешнего источника для \n",
    "    таких столбцов как (cuisine_style, price_range, number_of_reviews)'''\n",
    "\n",
    "    url = 'https://www.tripadvisor.com/' + row[-3]\n",
    "    global count\n",
    "    str_index = main_task[main_task['id_ta']\n",
    "                          == row[-2]].index[0]                                             # Выделяем индекс DF\n",
    "    print('{} / {} итерация функции  data_collector, {} - индекс'.format(count,\n",
    "                                                                         null_row, str_index))  # Выводим счётчик итерации функции\n",
    "\n",
    "    count += 1\n",
    "    soup = BeautifulSoup(requests.get(url).text, 'html.parser')\n",
    "    all_blocks = soup.find_all('a', class_='_2mn01bsa')\n",
    "    rting_value = soup.find_all('span', class_='_3Wub8auF')\n",
    "\n",
    "    if pd.isnull(row[2]):\n",
    "        # Добовляем количество кухонь\n",
    "\n",
    "        kitchens = [kitchen.text for kitchen in all_blocks[1:]]\n",
    "        if kitchens != []:\n",
    "            main_task['cuisine_style'].loc[str_index] = str(kitchens)\n",
    "        else:\n",
    "            main_task['cuisine_style'].loc[str_index] = np.nan\n",
    "\n",
    "    if pd.isnull(row[5]):\n",
    "        # Добовляем предпологаемый чек\n",
    "\n",
    "        cost = [bill.text for bill in all_blocks[:1]]\n",
    "        if (cost != []) and (str(cost[0]) in ['$', '$$ - $$$', '$$$$']):\n",
    "            main_task['price_range'].loc[str_index] = cost[0]\n",
    "        else:\n",
    "            main_task['price_range'].loc[str_index] = np.nan\n",
    "\n",
    "    if pd.isnull(row[6]):\n",
    "        # Добовляем количество отзывов\n",
    "\n",
    "        rating = [rting.text for rting in rting_value[:1]]\n",
    "        if rating != []:\n",
    "            rating[0] = rating[0].replace(',', '.')\n",
    "            main_task['number_of_reviews'].loc[str_index] = float(\n",
    "                rating[0].split(' ')[0])\n",
    "        else:\n",
    "            main_task['number_of_reviews'].loc[str_index] = np.nan\n",
    "\n",
    "\n",
    "def get_data_coment(row):\n",
    "    '''Функция получает строку датафрейма на вход и пытается собрать данные с внешнего источника \n",
    "    о дате последнего комментария'''\n",
    "\n",
    "    global count\n",
    "    url = 'https://www.tripadvisor.com/' + row[-3]\n",
    "    str_index = main_task[main_task['id_ta']\n",
    "                          == row[-2]].index[0]                                               # Выделяем индекс\n",
    "    print('{} - счётчик, {} - индекс, get_data_coment - функция'.format(count, str_index))\n",
    "    count += 1\n",
    "\n",
    "    soup = BeautifulSoup(requests.get(url).text, 'html.parser')\n",
    "    all_blocks = soup.find_all('span', class_='ratingDate')\n",
    "    comm = [all_block.text for all_block in all_blocks[:1]]\n",
    "\n",
    "    if comm != []:\n",
    "        main_task['data_comment'].loc[str_index] = str(comm[0])"
   ]
  },
  {
   "cell_type": "markdown",
   "metadata": {},
   "source": [
    "## Предобрадотка"
   ]
  },
  {
   "cell_type": "code",
   "execution_count": 145,
   "metadata": {},
   "outputs": [],
   "source": [
    "def cuisine_style1(row):\n",
    "    '''Функция получает на вход строку с названиями кухонь и\n",
    "    заполняет словарь, где ключами является название кухни, а \n",
    "    значениями их количество встречающиеся DF'''\n",
    "    if not pd.isnull(row):\n",
    "        for i in list(row[1:-1].split(',')):\n",
    "            i = i.strip()\n",
    "            i = i.replace(\"'\", '')\n",
    "\n",
    "            if i in kitchen:\n",
    "                kitchen[i] += 1\n",
    "            else:\n",
    "                kitchen.setdefault(i, 1)\n",
    "\n",
    "\n",
    "def cuisine_style(row):\n",
    "    '''Функция получает на вход строку с названиями кухонь и\n",
    "    заполняет список представленным количеством, если кухни в \n",
    "    списке отсутствуют то думаем, что предлагается только одна кухня'''\n",
    "    if pd.isnull(row):\n",
    "        cuisin.append(1)\n",
    "    else:\n",
    "        cuisin.append(len(list(row[1:-1].split(','))))\n",
    "\n",
    "\n",
    "def data_сonverter(data):\n",
    "    '''Функция получает на вход строку содержащую дату, когда был оставлен комментарий,\n",
    "    и вырезает его, записывая в лист и ищем разницу в днях между датами. '''\n",
    "\n",
    "    # Формируем лист с датами\n",
    "    data_list = list()\n",
    "    # Формируем паттерн по дате\n",
    "    pattern = re.compile('\\d+/\\d+/\\d+')\n",
    "\n",
    "    for i in pattern.findall(data):\n",
    "        if len(i) != 0:\n",
    "            i = datetime.datetime.strptime(i, '%m/%d/%Y')\n",
    "            data_list.append(i)\n",
    "            if len(data) != 0:\n",
    "                # Ищем разницу в днях между датами\n",
    "                my_tuple.add(max(data_list) - min(data_list))\n",
    "    return data_list\n",
    "\n",
    "\n",
    "def func_city_kitchen_rating(row):\n",
    "    '''Функция получает на вход строку и формирует словарь \n",
    "    по городам из самых распространённых кухонь и их рейтингу'''\n",
    "\n",
    "    # Убираем всё лишнее из строки\n",
    "    if not pd.isnull(row[1]):\n",
    "        for i in list(row[1][1:-1].split(',')):\n",
    "            i = i.strip()\n",
    "            i = i.replace(\"'\", '')\n",
    "\n",
    "    # Заполняем словарь и смотрим как кухни распределены по городам\n",
    "            if row[0] in city_kitchen:\n",
    "                if i in city_kitchen[row[0]]:\n",
    "                    city_kitchen[row[0]][i] += 1\n",
    "                else:\n",
    "                    city_kitchen[row[0]].setdefault(i, 1)\n",
    "            else:\n",
    "                city_kitchen.setdefault(row[0], dict())\n",
    "\n",
    "    # Заполняем словарь и смотрим как кухни распределены по рейтингу\n",
    "            if row[0] in rating_kitchen:\n",
    "                if i in rating_kitchen[row[0]]:\n",
    "                    rating_kitchen[row[0]][i].append(row[2])\n",
    "                else:\n",
    "                    rating_kitchen[row[0]].setdefault(i, [row[2]])\n",
    "            else:\n",
    "                rating_kitchen.setdefault(row[0], dict())\n",
    "\n",
    "\n",
    "def rating_distribution(my_dict):\n",
    "    '''Выставляем рейтинг по городам '''\n",
    "    for key, value in my_dict.items():\n",
    "        for kitchen, value in value.items():\n",
    "            if (sum(value) / len(value)) == 5 or (sum(value) / len(value)) >= 4.7:\n",
    "                rating_kitchen[key][kitchen] = 5.0\n",
    "            elif (sum(value) / len(value)) < 4.7 or (sum(value) / len(value)) >= 4.3:\n",
    "                rating_kitchen[key][kitchen] = 4.5\n",
    "            elif (sum(value) / len(value)) < 4.3 or (sum(value) / len(value)) >= 3.7:\n",
    "                rating_kitchen[key][kitchen] = 4.0\n",
    "            elif (sum(value) / len(value)) < 3.7 or (sum(value) / len(value)) >= 3.3:\n",
    "                rating_kitchen[key][kitchen] = 3.5\n",
    "            elif (sum(value) / len(value)) < 3.3 or (sum(value) / len(value)) >= 2.7:\n",
    "                rating_kitchen[key][kitchen] = 3.0\n",
    "            elif (sum(value) / len(value)) < 2.7 or (sum(value) / len(value)) >= 2.3:\n",
    "                rating_kitchen[key][kitchen] = 2.5\n",
    "            elif (sum(value) / len(value)) < 2.3 or (sum(value) / len(value)) >= 1.7:\n",
    "                rating_kitchen[key][kitchen] = 2.0\n",
    "            elif (sum(value) / len(value)) < 1.7 or (sum(value) / len(value)) >= 1.3:\n",
    "                rating_kitchen[key][kitchen] = 1.5\n",
    "            elif (sum(value) / len(value)) < 1.3 or (sum(value) / len(value)) >= 1.0:\n",
    "                rating_kitchen[key][kitchen] = 1.0\n",
    "\n",
    "\n",
    "def rating_tester(row):\n",
    "    '''Функция получает на вход 3 столбца city, rating и cuisine_style.\n",
    "    После чего на основании данных полученных при сборе словарей rating_kitchen и\n",
    "    city_kitchen пытаемся предугодать какая кухня была пропущенна в датасете'''\n",
    "    probability_dict = list()\n",
    "    count_kitchen = dict()\n",
    "    city = row[0]\n",
    "    rating = row[1]\n",
    "    cuisine_style = row[2]\n",
    "\n",
    "    # Формируем список из кухонь которые подходят по рейтингу\n",
    "    if pd.isnull(cuisine_style):\n",
    "        if city in rating_kitchen:\n",
    "            for kitchen, value in rating_kitchen[city].items():\n",
    "                if rating == rating_kitchen[city][kitchen]:\n",
    "                    probability_dict.append(kitchen)\n",
    "\n",
    "    # Формируем словарь из кухонь которые находятся в городе с таким же рейтингом\n",
    "        if len(probability_dict) != 0:\n",
    "            for kitchen in probability_dict:\n",
    "                if city in city_kitchen:\n",
    "                    if kitchen in city_kitchen[city]:\n",
    "                        count_kitchen.setdefault(\n",
    "                            kitchen, city_kitchen[city][kitchen])\n",
    "\n",
    "    # Выбераем наиболее популярную кухню с аналогичным рейтингом\n",
    "            for kitchen, value in count_kitchen.items():\n",
    "                if value == max(count_kitchen.values()):\n",
    "                    if str(kitchen) in rating_kitchen[city]:\n",
    "                        return [kitchen]\n",
    "        else:\n",
    "            for kitchen, value in city_kitchen[city].items():\n",
    "                if value == min(city_kitchen[city].values()):\n",
    "                    return [kitchen]\n",
    "\n",
    "    # В случае если попадается не пустое значение преобразуем его в список\n",
    "    else:\n",
    "        kitchen_list = list()\n",
    "        for kitchen in list(cuisine_style[1:-1].split(',')):\n",
    "            kitchen = kitchen.strip()\n",
    "            kitchen = kitchen.replace(\"'\", '')\n",
    "            kitchen = str(kitchen)\n",
    "            kitchen_list.append(kitchen)\n",
    "        return kitchen_list\n",
    "\n",
    "\n",
    "def test_clean(row):\n",
    "    '''Заполняем пропуски в столбце number_of_reviews при помощи\n",
    "    столбца reviews. Наличие комментариев в столбце reviews,\n",
    "    говорит как минимум об их существовании и в связи с этой логикой\n",
    "    столбце reviews заполняется значениями 0, 1, 2'''\n",
    "    number_of_reviews = row[0]\n",
    "    reviews = row[1]\n",
    "    reviews = reviews.replace('\"', '')\n",
    "    reviews = reviews.replace('[', '')\n",
    "    reviews = reviews.replace(']', '')\n",
    "    reviews = reviews.replace(\"'\", '')\n",
    "    reviews = reviews.replace('/', '.')\n",
    "    reviews = reviews.replace(', ', '|')\n",
    "    reviews = reviews.split('|')[:2]\n",
    "    if pd.isnull(number_of_reviews):\n",
    "        if (len(reviews[0]) > 0) and (len(reviews[1]) > 0):\n",
    "            return 2.0\n",
    "        elif (len(reviews[0]) > 0) and (len(reviews[1]) == 0):\n",
    "            return 1.0\n",
    "        elif (len(reviews[0]) == 0) and (len(reviews[1]) > 0):\n",
    "            return 1.0\n",
    "        elif (len(reviews[0]) == 0) and (len(reviews[1]) == 0):\n",
    "            return 0.0\n",
    "    else:\n",
    "        return number_of_reviews\n",
    "\n",
    "\n",
    "def price_range_count_preparation(row):\n",
    "    '''Функция получает на вход строку и создаёт словарь \n",
    "    со среднем значение рейтинга для каждой кухни и вероятной оплаты'''\n",
    "    city = row[0]\n",
    "    price_range = row[1]\n",
    "    number_of_reviews = row[2]\n",
    "\n",
    "    if not pd.isnull(price_range):\n",
    "        if city in price_range_dict:\n",
    "            if price_range in price_range_dict[city]:\n",
    "                price_range_dict[city][price_range].append(number_of_reviews)\n",
    "            else:\n",
    "                price_range_dict[city].setdefault(\n",
    "                    price_range, [number_of_reviews])\n",
    "        else:\n",
    "            price_range_dict.setdefault(city, dict())\n",
    "\n",
    "\n",
    "def price_range_dict_def(my_dict):\n",
    "    '''Функция получает словарь со среднем значение рейтинга\n",
    "    для каждой кухни и вероятной оплаты'''\n",
    "    for city, value_my_dict in my_dict.items():\n",
    "        for price_range, values in value_my_dict.items():\n",
    "            if city in price_range_dict:\n",
    "                price_range_dict[city][price_range] = round(\n",
    "                    sum(values) / len(values))\n",
    "\n",
    "\n",
    "def price_range_count1(row):\n",
    "    '''Функция получает на вход столбцы city, price_range, number_of_reviews\n",
    "    и пытается на основе словаря price_range_dict проставить вероятную оплату\n",
    "    в пустые значения'''\n",
    "    city = row[0]\n",
    "    price_range = row[1]\n",
    "    number_of_reviews = row[2]\n",
    "\n",
    "    # Выделяем минимальное,максимальное и среднее значение для каждой кухни\n",
    "    if pd.isnull(price_range):\n",
    "        price_range = np.nan\n",
    "        max_value = max(price_range_dict[city].values())\n",
    "        min_value = min(price_range_dict[city].values())\n",
    "        mean_value = sum(price_range_dict[city].values(\n",
    "        )) - (max(price_range_dict[city].values()) - min(price_range_dict[city].values()))\n",
    "\n",
    "        # Считаем грацины значений\n",
    "        upper_limit = round((max_value + mean_value) / 2)\n",
    "        lower_limit = round((min_value + mean_value) / 2)\n",
    "\n",
    "        # Фильтруем и подставляем значения\n",
    "        if number_of_reviews > upper_limit:\n",
    "            for my_price_range, my_number_of_reviews in price_range_dict[city].items():\n",
    "                if my_number_of_reviews == max_value:\n",
    "                    return my_price_range\n",
    "        elif (number_of_reviews <= upper_limit) and (number_of_reviews > lower_limit):\n",
    "            for my_price_range, my_number_of_reviews in price_range_dict[city].items():\n",
    "                if my_number_of_reviews == mean_value:\n",
    "                    return my_price_range\n",
    "        elif number_of_reviews <= lower_limit:\n",
    "            for my_price_range, my_number_of_reviews in price_range_dict[city].items():\n",
    "                if my_number_of_reviews == min_value:\n",
    "                    return my_price_range\n",
    "    else:\n",
    "        return price_range\n",
    "\n",
    "\n",
    "def find_item(cell):\n",
    "    '''Функция для создания дополнительных столбцов в\n",
    "    датафрейме из листа в столбце cuisine_style'''\n",
    "    if item in cell:\n",
    "        return 1\n",
    "    return 0\n",
    "\n",
    "\n",
    "def price_range_number(price_range):\n",
    "    '''Функция получает значение price_range и меняет его на цифры'''\n",
    "    if price_range == '$':\n",
    "        return 1\n",
    "    elif price_range == '$$ - $$$':\n",
    "        return 2\n",
    "    elif price_range == '$$$$':\n",
    "        return 2\n",
    "    \n",
    "    \n",
    "def func_ranking_popularity(ranking):\n",
    "    '''Функция получает на вход ranking и на основе \n",
    "    этих данных заполняет новый столбец по популярности\n",
    "    где значение 1 - наименьшее, а 7 - наибольгее'''\n",
    "    if ranking < 2500:\n",
    "        return 1.0\n",
    "    elif 2500 <= ranking < 5000:\n",
    "        return 2.0\n",
    "    elif 5000 <= ranking < 7500:\n",
    "        return 3.0\n",
    "    elif 7500 <= ranking < 10000:\n",
    "        return 4.0\n",
    "    elif 10000 <= ranking < 12500:\n",
    "        return 5.0\n",
    "    elif 12500 <= ranking < 15000:\n",
    "        return 6.0\n",
    "    elif 15000 < ranking:\n",
    "        return 7.0"
   ]
  },
  {
   "cell_type": "markdown",
   "metadata": {},
   "source": [
    "Какие столбцы НЕ содержат пропущенных (None) значений?"
   ]
  },
  {
   "cell_type": "code",
   "execution_count": 146,
   "metadata": {},
   "outputs": [
    {
     "name": "stdout",
     "output_type": "stream",
     "text": [
      "<class 'pandas.core.frame.DataFrame'>\n",
      "RangeIndex: 40000 entries, 0 to 39999\n",
      "Data columns (total 10 columns):\n",
      " #   Column             Non-Null Count  Dtype  \n",
      "---  ------             --------------  -----  \n",
      " 0   restaurant_id      40000 non-null  object \n",
      " 1   city               40000 non-null  object \n",
      " 2   cuisine_style      30717 non-null  object \n",
      " 3   ranking            40000 non-null  float64\n",
      " 4   rating             40000 non-null  float64\n",
      " 5   price_range        26114 non-null  object \n",
      " 6   number_of_reviews  37457 non-null  float64\n",
      " 7   reviews            40000 non-null  object \n",
      " 8   url_ta             40000 non-null  object \n",
      " 9   id_ta              40000 non-null  object \n",
      "dtypes: float64(3), object(7)\n",
      "memory usage: 3.1+ MB\n"
     ]
    }
   ],
   "source": [
    "main_task.info()"
   ]
  },
  {
   "cell_type": "markdown",
   "metadata": {},
   "source": [
    "В каких столбцах данные хранятся в числовом формате?"
   ]
  },
  {
   "cell_type": "code",
   "execution_count": 147,
   "metadata": {},
   "outputs": [
    {
     "name": "stdout",
     "output_type": "stream",
     "text": [
      "ranking\n",
      "rating\n",
      "number_of_reviews\n"
     ]
    }
   ],
   "source": [
    "for col in list(main_task.describe(include=['float64']).columns):\n",
    "    print(col)"
   ]
  },
  {
   "cell_type": "markdown",
   "metadata": {},
   "source": [
    "## Машинное обучение для чайников"
   ]
  },
  {
   "cell_type": "markdown",
   "metadata": {},
   "source": [
    "Сколько вариантов непустых значений встречается в столбце Price Range?"
   ]
  },
  {
   "cell_type": "code",
   "execution_count": 148,
   "metadata": {},
   "outputs": [
    {
     "data": {
      "text/plain": [
       "3"
      ]
     },
     "execution_count": 148,
     "metadata": {},
     "output_type": "execute_result"
    }
   ],
   "source": [
    "main_task['price_range'].nunique()"
   ]
  },
  {
   "cell_type": "markdown",
   "metadata": {},
   "source": [
    "Как в датафрейме обозначается самый низкий уровень цен?"
   ]
  },
  {
   "cell_type": "code",
   "execution_count": 149,
   "metadata": {},
   "outputs": [
    {
     "data": {
      "text/plain": [
       "'$'"
      ]
     },
     "execution_count": 149,
     "metadata": {},
     "output_type": "execute_result"
    }
   ],
   "source": [
    "main_task['price_range'].unique()[-1]"
   ]
  },
  {
   "cell_type": "markdown",
   "metadata": {},
   "source": [
    "Сколько ресторанов относятся к среднему ценовому сегменту?"
   ]
  },
  {
   "cell_type": "code",
   "execution_count": 150,
   "metadata": {},
   "outputs": [
    {
     "data": {
      "text/plain": [
       "18412"
      ]
     },
     "execution_count": 150,
     "metadata": {},
     "output_type": "execute_result"
    }
   ],
   "source": [
    "len(main_task[main_task['price_range'] == '$$ - $$$'])"
   ]
  },
  {
   "cell_type": "markdown",
   "metadata": {},
   "source": [
    "Сколько городов представлено в наборе данных?"
   ]
  },
  {
   "cell_type": "code",
   "execution_count": 151,
   "metadata": {},
   "outputs": [
    {
     "data": {
      "text/plain": [
       "31"
      ]
     },
     "execution_count": 151,
     "metadata": {},
     "output_type": "execute_result"
    }
   ],
   "source": [
    "main_task['city'].nunique()"
   ]
  },
  {
   "cell_type": "markdown",
   "metadata": {},
   "source": [
    "Сколько типов кухонь представлено в наборе данных?"
   ]
  },
  {
   "cell_type": "code",
   "execution_count": 152,
   "metadata": {},
   "outputs": [
    {
     "data": {
      "text/plain": [
       "125"
      ]
     },
     "execution_count": 152,
     "metadata": {},
     "output_type": "execute_result"
    }
   ],
   "source": [
    "kitchen = dict()\n",
    "main_task['cuisine_style'].apply(lambda row: cuisine_style1(row))\n",
    "len(kitchen)"
   ]
  },
  {
   "cell_type": "markdown",
   "metadata": {},
   "source": [
    "Какая кухня представлена в наибольшем количестве ресторанов? Введите название кухни без кавычек или апострофов."
   ]
  },
  {
   "cell_type": "code",
   "execution_count": 153,
   "metadata": {},
   "outputs": [
    {
     "name": "stdout",
     "output_type": "stream",
     "text": [
      "Vegetarian Friendly\n"
     ]
    }
   ],
   "source": [
    "for key, value in kitchen.items():\n",
    "    if value == max(kitchen.values()):\n",
    "        print(key)"
   ]
  },
  {
   "cell_type": "markdown",
   "metadata": {},
   "source": [
    "Какое среднее количество кухонь предлагается в одном ресторане? Если в данных отсутствует информация о типах кухонь, то считайте, что в этом ресторане предлагается только один тип кухни. Ответ округлите до одного знака после запятой."
   ]
  },
  {
   "cell_type": "code",
   "execution_count": 154,
   "metadata": {},
   "outputs": [
    {
     "data": {
      "text/plain": [
       "2.6"
      ]
     },
     "execution_count": 154,
     "metadata": {},
     "output_type": "execute_result"
    }
   ],
   "source": [
    "cuisin = list()\n",
    "main_task['cuisine_style'].apply(lambda x: cuisine_style(x))\n",
    "round(mean(cuisin), 1)"
   ]
  },
  {
   "cell_type": "markdown",
   "metadata": {},
   "source": [
    "Проверка на наличее дубликатов"
   ]
  },
  {
   "cell_type": "code",
   "execution_count": 155,
   "metadata": {},
   "outputs": [
    {
     "name": "stdout",
     "output_type": "stream",
     "text": [
      "39980 количество уникальных url адресов\n",
      "Количество уникальных url адресов и идентификатор ресторана совпадают - True\n",
      "Количество дублей в DF - 20\n"
     ]
    }
   ],
   "source": [
    "print('{} количество уникальных url адресов'.format(\n",
    "    main_task['url_ta'].nunique()))\n",
    "print('Количество уникальных url адресов и идентификатор ресторана совпадают - {}'.format(\n",
    "    main_task['url_ta'].nunique() == main_task['id_ta'].nunique()))\n",
    "print('Количество дублей в DF - {}'.format(len(main_task) -\n",
    "                                           main_task['url_ta'].nunique()))"
   ]
  },
  {
   "cell_type": "markdown",
   "metadata": {},
   "source": [
    "## Вывод: \n",
    "Поскольку количество уникальных url адресов в DF составляет 39980 из 40000, то просто удалим дубликаты из DF. Поскольку они не влияют на общую картину\n"
   ]
  },
  {
   "cell_type": "markdown",
   "metadata": {},
   "source": [
    "Удаляем дубликаты строк"
   ]
  },
  {
   "cell_type": "code",
   "execution_count": 156,
   "metadata": {},
   "outputs": [
    {
     "name": "stdout",
     "output_type": "stream",
     "text": [
      "<class 'pandas.core.frame.DataFrame'>\n",
      "Int64Index: 39980 entries, 0 to 39999\n",
      "Data columns (total 10 columns):\n",
      " #   Column             Non-Null Count  Dtype  \n",
      "---  ------             --------------  -----  \n",
      " 0   restaurant_id      39980 non-null  object \n",
      " 1   city               39980 non-null  object \n",
      " 2   cuisine_style      30701 non-null  object \n",
      " 3   ranking            39980 non-null  float64\n",
      " 4   rating             39980 non-null  float64\n",
      " 5   price_range        26101 non-null  object \n",
      " 6   number_of_reviews  37437 non-null  float64\n",
      " 7   reviews            39980 non-null  object \n",
      " 8   url_ta             39980 non-null  object \n",
      " 9   id_ta              39980 non-null  object \n",
      "dtypes: float64(3), object(7)\n",
      "memory usage: 3.4+ MB\n"
     ]
    }
   ],
   "source": [
    "main_task = main_task.drop_duplicates(subset=['url_ta'], keep='first')\n",
    "main_task.info()"
   ]
  },
  {
   "cell_type": "markdown",
   "metadata": {},
   "source": [
    "Добавляем столбец, где будем хранить данные о времени последнего комментария"
   ]
  },
  {
   "cell_type": "code",
   "execution_count": 157,
   "metadata": {},
   "outputs": [
    {
     "data": {
      "text/html": [
       "<div>\n",
       "<style scoped>\n",
       "    .dataframe tbody tr th:only-of-type {\n",
       "        vertical-align: middle;\n",
       "    }\n",
       "\n",
       "    .dataframe tbody tr th {\n",
       "        vertical-align: top;\n",
       "    }\n",
       "\n",
       "    .dataframe thead th {\n",
       "        text-align: right;\n",
       "    }\n",
       "</style>\n",
       "<table border=\"1\" class=\"dataframe\">\n",
       "  <thead>\n",
       "    <tr style=\"text-align: right;\">\n",
       "      <th></th>\n",
       "      <th>restaurant_id</th>\n",
       "      <th>city</th>\n",
       "      <th>cuisine_style</th>\n",
       "      <th>ranking</th>\n",
       "      <th>rating</th>\n",
       "      <th>price_range</th>\n",
       "      <th>number_of_reviews</th>\n",
       "      <th>reviews</th>\n",
       "      <th>url_ta</th>\n",
       "      <th>id_ta</th>\n",
       "      <th>data_comment</th>\n",
       "    </tr>\n",
       "  </thead>\n",
       "  <tbody>\n",
       "    <tr>\n",
       "      <th>0</th>\n",
       "      <td>id_5569</td>\n",
       "      <td>Paris</td>\n",
       "      <td>['European', 'French', 'International']</td>\n",
       "      <td>5570.0</td>\n",
       "      <td>3.5</td>\n",
       "      <td>$$ - $$$</td>\n",
       "      <td>194.0</td>\n",
       "      <td>[['Good food at your doorstep', 'A good hotel ...</td>\n",
       "      <td>/Restaurant_Review-g187147-d1912643-Reviews-R_...</td>\n",
       "      <td>d1912643</td>\n",
       "      <td>NaN</td>\n",
       "    </tr>\n",
       "    <tr>\n",
       "      <th>1</th>\n",
       "      <td>id_1535</td>\n",
       "      <td>Stockholm</td>\n",
       "      <td>NaN</td>\n",
       "      <td>1537.0</td>\n",
       "      <td>4.0</td>\n",
       "      <td>NaN</td>\n",
       "      <td>10.0</td>\n",
       "      <td>[['Unique cuisine', 'Delicious Nepalese food']...</td>\n",
       "      <td>/Restaurant_Review-g189852-d7992032-Reviews-Bu...</td>\n",
       "      <td>d7992032</td>\n",
       "      <td>NaN</td>\n",
       "    </tr>\n",
       "    <tr>\n",
       "      <th>2</th>\n",
       "      <td>id_352</td>\n",
       "      <td>London</td>\n",
       "      <td>['Japanese', 'Sushi', 'Asian', 'Grill', 'Veget...</td>\n",
       "      <td>353.0</td>\n",
       "      <td>4.5</td>\n",
       "      <td>$$$$</td>\n",
       "      <td>688.0</td>\n",
       "      <td>[['Catch up with friends', 'Not exceptional'],...</td>\n",
       "      <td>/Restaurant_Review-g186338-d8632781-Reviews-RO...</td>\n",
       "      <td>d8632781</td>\n",
       "      <td>NaN</td>\n",
       "    </tr>\n",
       "    <tr>\n",
       "      <th>3</th>\n",
       "      <td>id_3456</td>\n",
       "      <td>Berlin</td>\n",
       "      <td>NaN</td>\n",
       "      <td>3458.0</td>\n",
       "      <td>5.0</td>\n",
       "      <td>NaN</td>\n",
       "      <td>3.0</td>\n",
       "      <td>[[], []]</td>\n",
       "      <td>/Restaurant_Review-g187323-d1358776-Reviews-Es...</td>\n",
       "      <td>d1358776</td>\n",
       "      <td>NaN</td>\n",
       "    </tr>\n",
       "    <tr>\n",
       "      <th>4</th>\n",
       "      <td>id_615</td>\n",
       "      <td>Munich</td>\n",
       "      <td>['German', 'Central European', 'Vegetarian Fri...</td>\n",
       "      <td>621.0</td>\n",
       "      <td>4.0</td>\n",
       "      <td>$$ - $$$</td>\n",
       "      <td>84.0</td>\n",
       "      <td>[['Best place to try a Bavarian food', 'Nice b...</td>\n",
       "      <td>/Restaurant_Review-g187309-d6864963-Reviews-Au...</td>\n",
       "      <td>d6864963</td>\n",
       "      <td>NaN</td>\n",
       "    </tr>\n",
       "  </tbody>\n",
       "</table>\n",
       "</div>"
      ],
      "text/plain": [
       "  restaurant_id       city                                      cuisine_style  \\\n",
       "0       id_5569      Paris            ['European', 'French', 'International']   \n",
       "1       id_1535  Stockholm                                                NaN   \n",
       "2        id_352     London  ['Japanese', 'Sushi', 'Asian', 'Grill', 'Veget...   \n",
       "3       id_3456     Berlin                                                NaN   \n",
       "4        id_615     Munich  ['German', 'Central European', 'Vegetarian Fri...   \n",
       "\n",
       "   ranking  rating price_range  number_of_reviews  \\\n",
       "0   5570.0     3.5    $$ - $$$              194.0   \n",
       "1   1537.0     4.0         NaN               10.0   \n",
       "2    353.0     4.5        $$$$              688.0   \n",
       "3   3458.0     5.0         NaN                3.0   \n",
       "4    621.0     4.0    $$ - $$$               84.0   \n",
       "\n",
       "                                             reviews  \\\n",
       "0  [['Good food at your doorstep', 'A good hotel ...   \n",
       "1  [['Unique cuisine', 'Delicious Nepalese food']...   \n",
       "2  [['Catch up with friends', 'Not exceptional'],...   \n",
       "3                                           [[], []]   \n",
       "4  [['Best place to try a Bavarian food', 'Nice b...   \n",
       "\n",
       "                                              url_ta     id_ta  data_comment  \n",
       "0  /Restaurant_Review-g187147-d1912643-Reviews-R_...  d1912643           NaN  \n",
       "1  /Restaurant_Review-g189852-d7992032-Reviews-Bu...  d7992032           NaN  \n",
       "2  /Restaurant_Review-g186338-d8632781-Reviews-RO...  d8632781           NaN  \n",
       "3  /Restaurant_Review-g187323-d1358776-Reviews-Es...  d1358776           NaN  \n",
       "4  /Restaurant_Review-g187309-d6864963-Reviews-Au...  d6864963           NaN  "
      ]
     },
     "execution_count": 157,
     "metadata": {},
     "output_type": "execute_result"
    }
   ],
   "source": [
    "main_task['data_comment'] = np.nan\n",
    "main_task.head(5)"
   ]
  },
  {
   "cell_type": "markdown",
   "metadata": {},
   "source": [
    "Посчитаем коичество строк в которых есть пропущенные значения в столбцах cuisine_style, price_range, number_of_reviews"
   ]
  },
  {
   "cell_type": "code",
   "execution_count": 158,
   "metadata": {},
   "outputs": [
    {
     "data": {
      "text/plain": [
       "14299"
      ]
     },
     "execution_count": 158,
     "metadata": {},
     "output_type": "execute_result"
    }
   ],
   "source": [
    "null_row = len(main_task[(main_task['cuisine_style'].isnull()) | (\n",
    "               main_task['price_range'].isnull()) | (main_task['number_of_reviews'].isnull())])\n",
    "null_row"
   ]
  },
  {
   "cell_type": "code",
   "execution_count": null,
   "metadata": {},
   "outputs": [],
   "source": [
    "count = 1\n",
    "main_task[(main_task['cuisine_style'].isnull()) | (\n",
    "    main_task['price_range'].isnull()) | (main_task['number_of_reviews'].isnull())].apply(lambda row: data_collector(row), axis=1)"
   ]
  },
  {
   "cell_type": "code",
   "execution_count": null,
   "metadata": {},
   "outputs": [],
   "source": [
    "count = 1\n",
    "main_task.apply(lambda row: get_data_coment(row), axis=1)"
   ]
  },
  {
   "cell_type": "code",
   "execution_count": 159,
   "metadata": {},
   "outputs": [
    {
     "name": "stdout",
     "output_type": "stream",
     "text": [
      "<class 'pandas.core.frame.DataFrame'>\n",
      "Int64Index: 39980 entries, 0 to 39999\n",
      "Data columns (total 11 columns):\n",
      " #   Column             Non-Null Count  Dtype  \n",
      "---  ------             --------------  -----  \n",
      " 0   restaurant_id      39980 non-null  object \n",
      " 1   city               39980 non-null  object \n",
      " 2   cuisine_style      30701 non-null  object \n",
      " 3   ranking            39980 non-null  float64\n",
      " 4   rating             39980 non-null  float64\n",
      " 5   price_range        26101 non-null  object \n",
      " 6   number_of_reviews  37437 non-null  float64\n",
      " 7   reviews            39980 non-null  object \n",
      " 8   url_ta             39980 non-null  object \n",
      " 9   id_ta              39980 non-null  object \n",
      " 10  data_comment       0 non-null      float64\n",
      "dtypes: float64(4), object(7)\n",
      "memory usage: 3.7+ MB\n"
     ]
    }
   ],
   "source": [
    "main_task.info()"
   ]
  },
  {
   "cell_type": "code",
   "execution_count": null,
   "metadata": {},
   "outputs": [],
   "source": [
    "main_task.to_csv('main_task_new_comment')"
   ]
  },
  {
   "cell_type": "code",
   "execution_count": 160,
   "metadata": {},
   "outputs": [
    {
     "data": {
      "text/html": [
       "<div>\n",
       "<style scoped>\n",
       "    .dataframe tbody tr th:only-of-type {\n",
       "        vertical-align: middle;\n",
       "    }\n",
       "\n",
       "    .dataframe tbody tr th {\n",
       "        vertical-align: top;\n",
       "    }\n",
       "\n",
       "    .dataframe thead th {\n",
       "        text-align: right;\n",
       "    }\n",
       "</style>\n",
       "<table border=\"1\" class=\"dataframe\">\n",
       "  <thead>\n",
       "    <tr style=\"text-align: right;\">\n",
       "      <th></th>\n",
       "      <th>Unnamed: 0</th>\n",
       "      <th>restaurant_id</th>\n",
       "      <th>city</th>\n",
       "      <th>cuisine_style</th>\n",
       "      <th>ranking</th>\n",
       "      <th>rating</th>\n",
       "      <th>price_range</th>\n",
       "      <th>number_of_reviews</th>\n",
       "      <th>reviews</th>\n",
       "      <th>url_ta</th>\n",
       "      <th>id_ta</th>\n",
       "      <th>data_comment</th>\n",
       "    </tr>\n",
       "  </thead>\n",
       "  <tbody>\n",
       "    <tr>\n",
       "      <th>0</th>\n",
       "      <td>0</td>\n",
       "      <td>id_5569</td>\n",
       "      <td>Paris</td>\n",
       "      <td>['European', 'French', 'International']</td>\n",
       "      <td>5570.0</td>\n",
       "      <td>3.5</td>\n",
       "      <td>$$ - $$$</td>\n",
       "      <td>194.0</td>\n",
       "      <td>[['Good food at your doorstep', 'A good hotel ...</td>\n",
       "      <td>/Restaurant_Review-g187147-d1912643-Reviews-R_...</td>\n",
       "      <td>d1912643</td>\n",
       "      <td>Reviewed February 14, 2020</td>\n",
       "    </tr>\n",
       "    <tr>\n",
       "      <th>1</th>\n",
       "      <td>1</td>\n",
       "      <td>id_1535</td>\n",
       "      <td>Stockholm</td>\n",
       "      <td>['Asian', 'Nepali']</td>\n",
       "      <td>1537.0</td>\n",
       "      <td>4.0</td>\n",
       "      <td>$$ - $$$</td>\n",
       "      <td>10.0</td>\n",
       "      <td>[['Unique cuisine', 'Delicious Nepalese food']...</td>\n",
       "      <td>/Restaurant_Review-g189852-d7992032-Reviews-Bu...</td>\n",
       "      <td>d7992032</td>\n",
       "      <td>Reviewed February 27, 2020</td>\n",
       "    </tr>\n",
       "    <tr>\n",
       "      <th>2</th>\n",
       "      <td>2</td>\n",
       "      <td>id_352</td>\n",
       "      <td>London</td>\n",
       "      <td>['Japanese', 'Sushi', 'Asian', 'Grill', 'Veget...</td>\n",
       "      <td>353.0</td>\n",
       "      <td>4.5</td>\n",
       "      <td>$$$$</td>\n",
       "      <td>688.0</td>\n",
       "      <td>[['Catch up with friends', 'Not exceptional'],...</td>\n",
       "      <td>/Restaurant_Review-g186338-d8632781-Reviews-RO...</td>\n",
       "      <td>d8632781</td>\n",
       "      <td>Reviewed 1 week ago</td>\n",
       "    </tr>\n",
       "    <tr>\n",
       "      <th>3</th>\n",
       "      <td>3</td>\n",
       "      <td>id_3456</td>\n",
       "      <td>Berlin</td>\n",
       "      <td>NaN</td>\n",
       "      <td>3458.0</td>\n",
       "      <td>5.0</td>\n",
       "      <td>NaN</td>\n",
       "      <td>3.0</td>\n",
       "      <td>[[], []]</td>\n",
       "      <td>/Restaurant_Review-g187323-d1358776-Reviews-Es...</td>\n",
       "      <td>d1358776</td>\n",
       "      <td>Reviewed February 19, 2016</td>\n",
       "    </tr>\n",
       "    <tr>\n",
       "      <th>4</th>\n",
       "      <td>4</td>\n",
       "      <td>id_615</td>\n",
       "      <td>Munich</td>\n",
       "      <td>['German', 'Central European', 'Vegetarian Fri...</td>\n",
       "      <td>621.0</td>\n",
       "      <td>4.0</td>\n",
       "      <td>$$ - $$$</td>\n",
       "      <td>84.0</td>\n",
       "      <td>[['Best place to try a Bavarian food', 'Nice b...</td>\n",
       "      <td>/Restaurant_Review-g187309-d6864963-Reviews-Au...</td>\n",
       "      <td>d6864963</td>\n",
       "      <td>Reviewed September 10, 2020</td>\n",
       "    </tr>\n",
       "  </tbody>\n",
       "</table>\n",
       "</div>"
      ],
      "text/plain": [
       "   Unnamed: 0 restaurant_id       city  \\\n",
       "0           0       id_5569      Paris   \n",
       "1           1       id_1535  Stockholm   \n",
       "2           2        id_352     London   \n",
       "3           3       id_3456     Berlin   \n",
       "4           4        id_615     Munich   \n",
       "\n",
       "                                       cuisine_style  ranking  rating  \\\n",
       "0            ['European', 'French', 'International']   5570.0     3.5   \n",
       "1                                ['Asian', 'Nepali']   1537.0     4.0   \n",
       "2  ['Japanese', 'Sushi', 'Asian', 'Grill', 'Veget...    353.0     4.5   \n",
       "3                                                NaN   3458.0     5.0   \n",
       "4  ['German', 'Central European', 'Vegetarian Fri...    621.0     4.0   \n",
       "\n",
       "  price_range  number_of_reviews  \\\n",
       "0    $$ - $$$              194.0   \n",
       "1    $$ - $$$               10.0   \n",
       "2        $$$$              688.0   \n",
       "3         NaN                3.0   \n",
       "4    $$ - $$$               84.0   \n",
       "\n",
       "                                             reviews  \\\n",
       "0  [['Good food at your doorstep', 'A good hotel ...   \n",
       "1  [['Unique cuisine', 'Delicious Nepalese food']...   \n",
       "2  [['Catch up with friends', 'Not exceptional'],...   \n",
       "3                                           [[], []]   \n",
       "4  [['Best place to try a Bavarian food', 'Nice b...   \n",
       "\n",
       "                                              url_ta     id_ta  \\\n",
       "0  /Restaurant_Review-g187147-d1912643-Reviews-R_...  d1912643   \n",
       "1  /Restaurant_Review-g189852-d7992032-Reviews-Bu...  d7992032   \n",
       "2  /Restaurant_Review-g186338-d8632781-Reviews-RO...  d8632781   \n",
       "3  /Restaurant_Review-g187323-d1358776-Reviews-Es...  d1358776   \n",
       "4  /Restaurant_Review-g187309-d6864963-Reviews-Au...  d6864963   \n",
       "\n",
       "                   data_comment  \n",
       "0   Reviewed February 14, 2020   \n",
       "1   Reviewed February 27, 2020   \n",
       "2          Reviewed 1 week ago   \n",
       "3   Reviewed February 19, 2016   \n",
       "4  Reviewed September 10, 2020   "
      ]
     },
     "execution_count": 160,
     "metadata": {},
     "output_type": "execute_result"
    }
   ],
   "source": [
    "main_task_new = pd.read_csv('main_task_new_comment')\n",
    "main_task_new.head()"
   ]
  },
  {
   "cell_type": "markdown",
   "metadata": {},
   "source": [
    "Вопросы об отзывах"
   ]
  },
  {
   "cell_type": "code",
   "execution_count": 161,
   "metadata": {},
   "outputs": [],
   "source": [
    "main_task_new = main_task_new.dropna(subset=['data_comment'], axis=0)"
   ]
  },
  {
   "cell_type": "markdown",
   "metadata": {},
   "source": [
    "Какое максимальное количество дней отделяет даты публикации отзывов, размещённых на сайте ресторана? Введите количество дней в виде целого числа."
   ]
  },
  {
   "cell_type": "code",
   "execution_count": 162,
   "metadata": {},
   "outputs": [],
   "source": [
    "my_tuple = set()\n",
    "main_task_new['new_data_comment'] = main_task_new['reviews'].apply(\n",
    "    lambda data: data_сonverter(data))"
   ]
  },
  {
   "cell_type": "code",
   "execution_count": 163,
   "metadata": {},
   "outputs": [
    {
     "data": {
      "text/plain": [
       "[datetime.datetime(2018, 2, 26, 0, 0), datetime.datetime(2018, 2, 26, 0, 0)]"
      ]
     },
     "execution_count": 163,
     "metadata": {},
     "output_type": "execute_result"
    }
   ],
   "source": [
    "main_task_new['new_data_comment'].max()"
   ]
  },
  {
   "cell_type": "markdown",
   "metadata": {},
   "source": [
    "Какое максимальное количество дней отделяет даты публикации отзывов, размещённых на сайте ресторана? Введите количество дней в виде целого числа."
   ]
  },
  {
   "cell_type": "code",
   "execution_count": 164,
   "metadata": {},
   "outputs": [
    {
     "data": {
      "text/plain": [
       "datetime.timedelta(days=3207)"
      ]
     },
     "execution_count": 164,
     "metadata": {},
     "output_type": "execute_result"
    }
   ],
   "source": [
    "max(my_tuple)"
   ]
  },
  {
   "cell_type": "code",
   "execution_count": 165,
   "metadata": {},
   "outputs": [
    {
     "name": "stdout",
     "output_type": "stream",
     "text": [
      "<class 'pandas.core.frame.DataFrame'>\n",
      "RangeIndex: 39980 entries, 0 to 39979\n",
      "Data columns (total 12 columns):\n",
      " #   Column             Non-Null Count  Dtype  \n",
      "---  ------             --------------  -----  \n",
      " 0   Unnamed: 0         39980 non-null  int64  \n",
      " 1   restaurant_id      39980 non-null  object \n",
      " 2   city               39980 non-null  object \n",
      " 3   cuisine_style      34784 non-null  object \n",
      " 4   ranking            39980 non-null  float64\n",
      " 5   rating             39980 non-null  float64\n",
      " 6   price_range        32541 non-null  object \n",
      " 7   number_of_reviews  39646 non-null  float64\n",
      " 8   reviews            39980 non-null  object \n",
      " 9   url_ta             39980 non-null  object \n",
      " 10  id_ta              39980 non-null  object \n",
      " 11  data_comment       36177 non-null  object \n",
      "dtypes: float64(3), int64(1), object(8)\n",
      "memory usage: 3.7+ MB\n"
     ]
    }
   ],
   "source": [
    "main_task_new = pd.read_csv('main_task_new_comment')\n",
    "main_task_new.info()"
   ]
  },
  {
   "cell_type": "markdown",
   "metadata": {},
   "source": [
    "## Попытка заполений недостающих значений"
   ]
  },
  {
   "cell_type": "code",
   "execution_count": 166,
   "metadata": {},
   "outputs": [
    {
     "name": "stdout",
     "output_type": "stream",
     "text": [
      "<class 'pandas.core.frame.DataFrame'>\n",
      "RangeIndex: 39980 entries, 0 to 39979\n",
      "Data columns (total 12 columns):\n",
      " #   Column             Non-Null Count  Dtype  \n",
      "---  ------             --------------  -----  \n",
      " 0   Unnamed: 0         39980 non-null  int64  \n",
      " 1   restaurant_id      39980 non-null  object \n",
      " 2   city               39980 non-null  object \n",
      " 3   cuisine_style      34784 non-null  object \n",
      " 4   ranking            39980 non-null  float64\n",
      " 5   rating             39980 non-null  float64\n",
      " 6   price_range        32541 non-null  object \n",
      " 7   number_of_reviews  39646 non-null  float64\n",
      " 8   reviews            39980 non-null  object \n",
      " 9   url_ta             39980 non-null  object \n",
      " 10  id_ta              39980 non-null  object \n",
      " 11  data_comment       36177 non-null  object \n",
      "dtypes: float64(3), int64(1), object(8)\n",
      "memory usage: 3.7+ MB\n"
     ]
    }
   ],
   "source": [
    "main_task_new.info()"
   ]
  },
  {
   "cell_type": "markdown",
   "metadata": {},
   "source": [
    "Посмотрим распределение признака"
   ]
  },
  {
   "cell_type": "code",
   "execution_count": 167,
   "metadata": {},
   "outputs": [
    {
     "data": {
      "text/plain": [
       "<matplotlib.axes._subplots.AxesSubplot at 0x1ffdd4cb808>"
      ]
     },
     "execution_count": 167,
     "metadata": {},
     "output_type": "execute_result"
    },
    {
     "data": {
      "image/png": "[encoded data removed]",
      "text/plain": [
       "<Figure size 720x504 with 1 Axes>"
      ]
     },
     "metadata": {
      "needs_background": "light"
     },
     "output_type": "display_data"
    }
   ],
   "source": [
    "plt.rcParams['figure.figsize'] = (10,7)\n",
    "main_task_new['ranking'].hist(bins=100)"
   ]
  },
  {
   "cell_type": "markdown",
   "metadata": {},
   "source": [
    "На основе полученных данных создаём новый категориальный признак"
   ]
  },
  {
   "cell_type": "code",
   "execution_count": 168,
   "metadata": {},
   "outputs": [],
   "source": [
    "main_task_new['ranking_popularity'] = main_task_new['ranking'].apply(lambda ranking: func_ranking_popularity(ranking))"
   ]
  },
  {
   "cell_type": "markdown",
   "metadata": {},
   "source": [
    "У нас много ресторанов, которые не дотягивают и до 2500 места в своем городе, а что там по городам?"
   ]
  },
  {
   "cell_type": "code",
   "execution_count": 169,
   "metadata": {},
   "outputs": [
    {
     "data": {
      "text/plain": [
       "<matplotlib.axes._subplots.AxesSubplot at 0x1ffdd192548>"
      ]
     },
     "execution_count": 169,
     "metadata": {},
     "output_type": "execute_result"
    },
    {
     "data": {
      "image/png": "[encoded data removed]",
      "text/plain": [
       "<Figure size 720x504 with 1 Axes>"
      ]
     },
     "metadata": {
      "needs_background": "light"
     },
     "output_type": "display_data"
    }
   ],
   "source": [
    "main_task_new['city'].value_counts(ascending=True).plot(kind='barh')"
   ]
  },
  {
   "cell_type": "markdown",
   "metadata": {},
   "source": [
    "Посмотрим, как изменится распределение в большом городе"
   ]
  },
  {
   "cell_type": "code",
   "execution_count": 170,
   "metadata": {},
   "outputs": [
    {
     "data": {
      "text/plain": [
       "<matplotlib.axes._subplots.AxesSubplot at 0x1ffdd34f488>"
      ]
     },
     "execution_count": 170,
     "metadata": {},
     "output_type": "execute_result"
    },
    {
     "data": {
      "image/png": "[encoded data removed]",
      "text/plain": [
       "<Figure size 720x504 with 1 Axes>"
      ]
     },
     "metadata": {
      "needs_background": "light"
     },
     "output_type": "display_data"
    }
   ],
   "source": [
    "main_task_new['ranking'][main_task_new['city'] =='London'].hist(bins=100)"
   ]
  },
  {
   "cell_type": "markdown",
   "metadata": {},
   "source": [
    "Посмотрим на топ 10 городов"
   ]
  },
  {
   "cell_type": "code",
   "execution_count": 171,
   "metadata": {},
   "outputs": [
    {
     "data": {
      "image/png": "[encoded data removed]",
      "text/plain": [
       "<Figure size 720x504 with 1 Axes>"
      ]
     },
     "metadata": {
      "needs_background": "light"
     },
     "output_type": "display_data"
    }
   ],
   "source": [
    "for x in (main_task_new['city'].value_counts())[0:10].index:\n",
    "    main_task_new['ranking'][main_task_new['city'] == x].hist(bins=100)\n",
    "plt.show()"
   ]
  },
  {
   "cell_type": "markdown",
   "metadata": {},
   "source": [
    "Посмотрим распределение целевой переменной"
   ]
  },
  {
   "cell_type": "code",
   "execution_count": 172,
   "metadata": {},
   "outputs": [
    {
     "data": {
      "text/plain": [
       "<matplotlib.axes._subplots.AxesSubplot at 0x1fff2c13f48>"
      ]
     },
     "execution_count": 172,
     "metadata": {},
     "output_type": "execute_result"
    },
    {
     "data": {
      "image/png": "[encoded data removed]",
      "text/plain": [
       "<Figure size 720x504 with 1 Axes>"
      ]
     },
     "metadata": {
      "needs_background": "light"
     },
     "output_type": "display_data"
    }
   ],
   "source": [
    "main_task_new['rating'].value_counts(ascending=True).plot(kind='barh')"
   ]
  },
  {
   "cell_type": "markdown",
   "metadata": {},
   "source": [
    "Посмотрим распределение целевой переменной относительно признака"
   ]
  },
  {
   "cell_type": "code",
   "execution_count": 173,
   "metadata": {},
   "outputs": [
    {
     "data": {
      "text/plain": [
       "<matplotlib.axes._subplots.AxesSubplot at 0x1fff2c662c8>"
      ]
     },
     "execution_count": 173,
     "metadata": {},
     "output_type": "execute_result"
    },
    {
     "data": {
      "image/png": "[encoded data removed]",
      "text/plain": [
       "<Figure size 720x504 with 1 Axes>"
      ]
     },
     "metadata": {
      "needs_background": "light"
     },
     "output_type": "display_data"
    }
   ],
   "source": [
    "main_task_new['ranking'][main_task_new['rating'] == 5].hist(bins=100)"
   ]
  },
  {
   "cell_type": "code",
   "execution_count": 174,
   "metadata": {},
   "outputs": [
    {
     "data": {
      "text/plain": [
       "<matplotlib.axes._subplots.AxesSubplot at 0x1fff2d7efc8>"
      ]
     },
     "execution_count": 174,
     "metadata": {},
     "output_type": "execute_result"
    },
    {
     "data": {
      "image/png": "[encoded data removed]",
      "text/plain": [
       "<Figure size 720x504 with 1 Axes>"
      ]
     },
     "metadata": {
      "needs_background": "light"
     },
     "output_type": "display_data"
    }
   ],
   "source": [
    "main_task_new['ranking'][main_task_new['rating'] == 4].hist(bins=100)"
   ]
  },
  {
   "cell_type": "code",
   "execution_count": 175,
   "metadata": {},
   "outputs": [
    {
     "data": {
      "text/plain": [
       "<matplotlib.axes._subplots.AxesSubplot at 0x1fff30006c8>"
      ]
     },
     "execution_count": 175,
     "metadata": {},
     "output_type": "execute_result"
    },
    {
     "data": {
      "image/png": "[encoded data removed]",
      "text/plain": [
       "<Figure size 720x504 with 1 Axes>"
      ]
     },
     "metadata": {
      "needs_background": "light"
     },
     "output_type": "display_data"
    }
   ],
   "source": [
    "main_task_new['ranking'][main_task_new['rating'] == 3].hist(bins=100)"
   ]
  },
  {
   "cell_type": "code",
   "execution_count": 176,
   "metadata": {},
   "outputs": [
    {
     "data": {
      "text/plain": [
       "<matplotlib.axes._subplots.AxesSubplot at 0x1fff3149d48>"
      ]
     },
     "execution_count": 176,
     "metadata": {},
     "output_type": "execute_result"
    },
    {
     "data": {
      "image/png": "[encoded data removed]",
      "text/plain": [
       "<Figure size 720x504 with 1 Axes>"
      ]
     },
     "metadata": {
      "needs_background": "light"
     },
     "output_type": "display_data"
    }
   ],
   "source": [
    "main_task_new['ranking'][main_task_new['rating'] == 2].hist(bins=100)"
   ]
  },
  {
   "cell_type": "code",
   "execution_count": 177,
   "metadata": {},
   "outputs": [
    {
     "data": {
      "text/plain": [
       "<matplotlib.axes._subplots.AxesSubplot at 0x1fff349bbc8>"
      ]
     },
     "execution_count": 177,
     "metadata": {},
     "output_type": "execute_result"
    },
    {
     "data": {
      "image/png": "[encoded data removed]",
      "text/plain": [
       "<Figure size 720x504 with 1 Axes>"
      ]
     },
     "metadata": {
      "needs_background": "light"
     },
     "output_type": "display_data"
    }
   ],
   "source": [
    "main_task_new['ranking'][main_task_new['rating'] == 1].hist(bins=100)"
   ]
  },
  {
   "cell_type": "markdown",
   "metadata": {},
   "source": [
    "## Вывод\n",
    "\n",
    "Наибольшее количество ресторанов находится в крупных западноевропейских городах, что не удивительно ведь данные города находятся в страна с развитой экономикой. Также удивило, что наиболее выставляемый рейтинг ресторанов составляет 4, но при этом ресторанов с рангом мнение 2500 в своём городе подавляющее большинство. Из чего моно сделать вывод, что часть рейтингов просто \"накручена\"."
   ]
  },
  {
   "cell_type": "code",
   "execution_count": 178,
   "metadata": {},
   "outputs": [
    {
     "data": {
      "text/plain": [
       "0        None\n",
       "1        None\n",
       "2        None\n",
       "3        None\n",
       "4        None\n",
       "         ... \n",
       "39975    None\n",
       "39976    None\n",
       "39977    None\n",
       "39978    None\n",
       "39979    None\n",
       "Length: 39980, dtype: object"
      ]
     },
     "execution_count": 178,
     "metadata": {},
     "output_type": "execute_result"
    }
   ],
   "source": [
    "# Создаём словарь с респределением кухонь по городам\n",
    "city_kitchen = dict()\n",
    "\n",
    "# Создаём словарь с среднем рейтингом кухни в городе\n",
    "rating_kitchen = dict()\n",
    "\n",
    "main_task_new[['city', 'cuisine_style', 'rating']].apply(\n",
    "    lambda row: func_city_kitchen_rating(row), axis=1)"
   ]
  },
  {
   "cell_type": "code",
   "execution_count": 179,
   "metadata": {},
   "outputs": [],
   "source": [
    "# Приводим рейтинг в общий вид\n",
    "rating_distribution(rating_kitchen)"
   ]
  },
  {
   "cell_type": "code",
   "execution_count": 180,
   "metadata": {},
   "outputs": [
    {
     "data": {
      "text/html": [
       "<div>\n",
       "<style scoped>\n",
       "    .dataframe tbody tr th:only-of-type {\n",
       "        vertical-align: middle;\n",
       "    }\n",
       "\n",
       "    .dataframe tbody tr th {\n",
       "        vertical-align: top;\n",
       "    }\n",
       "\n",
       "    .dataframe thead th {\n",
       "        text-align: right;\n",
       "    }\n",
       "</style>\n",
       "<table border=\"1\" class=\"dataframe\">\n",
       "  <thead>\n",
       "    <tr style=\"text-align: right;\">\n",
       "      <th></th>\n",
       "      <th>Unnamed: 0</th>\n",
       "      <th>restaurant_id</th>\n",
       "      <th>city</th>\n",
       "      <th>cuisine_style</th>\n",
       "      <th>ranking</th>\n",
       "      <th>rating</th>\n",
       "      <th>price_range</th>\n",
       "      <th>number_of_reviews</th>\n",
       "      <th>reviews</th>\n",
       "      <th>url_ta</th>\n",
       "      <th>id_ta</th>\n",
       "      <th>data_comment</th>\n",
       "      <th>ranking_popularity</th>\n",
       "    </tr>\n",
       "  </thead>\n",
       "  <tbody>\n",
       "    <tr>\n",
       "      <th>0</th>\n",
       "      <td>0</td>\n",
       "      <td>id_5569</td>\n",
       "      <td>Paris</td>\n",
       "      <td>['European', 'French', 'International']</td>\n",
       "      <td>5570.0</td>\n",
       "      <td>3.5</td>\n",
       "      <td>$$ - $$$</td>\n",
       "      <td>194.0</td>\n",
       "      <td>[['Good food at your doorstep', 'A good hotel ...</td>\n",
       "      <td>/Restaurant_Review-g187147-d1912643-Reviews-R_...</td>\n",
       "      <td>d1912643</td>\n",
       "      <td>Reviewed February 14, 2020</td>\n",
       "      <td>3.0</td>\n",
       "    </tr>\n",
       "    <tr>\n",
       "      <th>1</th>\n",
       "      <td>1</td>\n",
       "      <td>id_1535</td>\n",
       "      <td>Stockholm</td>\n",
       "      <td>['Asian', 'Nepali']</td>\n",
       "      <td>1537.0</td>\n",
       "      <td>4.0</td>\n",
       "      <td>$$ - $$$</td>\n",
       "      <td>10.0</td>\n",
       "      <td>[['Unique cuisine', 'Delicious Nepalese food']...</td>\n",
       "      <td>/Restaurant_Review-g189852-d7992032-Reviews-Bu...</td>\n",
       "      <td>d7992032</td>\n",
       "      <td>Reviewed February 27, 2020</td>\n",
       "      <td>1.0</td>\n",
       "    </tr>\n",
       "    <tr>\n",
       "      <th>2</th>\n",
       "      <td>2</td>\n",
       "      <td>id_352</td>\n",
       "      <td>London</td>\n",
       "      <td>['Japanese', 'Sushi', 'Asian', 'Grill', 'Veget...</td>\n",
       "      <td>353.0</td>\n",
       "      <td>4.5</td>\n",
       "      <td>$$$$</td>\n",
       "      <td>688.0</td>\n",
       "      <td>[['Catch up with friends', 'Not exceptional'],...</td>\n",
       "      <td>/Restaurant_Review-g186338-d8632781-Reviews-RO...</td>\n",
       "      <td>d8632781</td>\n",
       "      <td>Reviewed 1 week ago</td>\n",
       "      <td>1.0</td>\n",
       "    </tr>\n",
       "    <tr>\n",
       "      <th>3</th>\n",
       "      <td>3</td>\n",
       "      <td>id_3456</td>\n",
       "      <td>Berlin</td>\n",
       "      <td>NaN</td>\n",
       "      <td>3458.0</td>\n",
       "      <td>5.0</td>\n",
       "      <td>NaN</td>\n",
       "      <td>3.0</td>\n",
       "      <td>[[], []]</td>\n",
       "      <td>/Restaurant_Review-g187323-d1358776-Reviews-Es...</td>\n",
       "      <td>d1358776</td>\n",
       "      <td>Reviewed February 19, 2016</td>\n",
       "      <td>2.0</td>\n",
       "    </tr>\n",
       "    <tr>\n",
       "      <th>4</th>\n",
       "      <td>4</td>\n",
       "      <td>id_615</td>\n",
       "      <td>Munich</td>\n",
       "      <td>['German', 'Central European', 'Vegetarian Fri...</td>\n",
       "      <td>621.0</td>\n",
       "      <td>4.0</td>\n",
       "      <td>$$ - $$$</td>\n",
       "      <td>84.0</td>\n",
       "      <td>[['Best place to try a Bavarian food', 'Nice b...</td>\n",
       "      <td>/Restaurant_Review-g187309-d6864963-Reviews-Au...</td>\n",
       "      <td>d6864963</td>\n",
       "      <td>Reviewed September 10, 2020</td>\n",
       "      <td>1.0</td>\n",
       "    </tr>\n",
       "  </tbody>\n",
       "</table>\n",
       "</div>"
      ],
      "text/plain": [
       "   Unnamed: 0 restaurant_id       city  \\\n",
       "0           0       id_5569      Paris   \n",
       "1           1       id_1535  Stockholm   \n",
       "2           2        id_352     London   \n",
       "3           3       id_3456     Berlin   \n",
       "4           4        id_615     Munich   \n",
       "\n",
       "                                       cuisine_style  ranking  rating  \\\n",
       "0            ['European', 'French', 'International']   5570.0     3.5   \n",
       "1                                ['Asian', 'Nepali']   1537.0     4.0   \n",
       "2  ['Japanese', 'Sushi', 'Asian', 'Grill', 'Veget...    353.0     4.5   \n",
       "3                                                NaN   3458.0     5.0   \n",
       "4  ['German', 'Central European', 'Vegetarian Fri...    621.0     4.0   \n",
       "\n",
       "  price_range  number_of_reviews  \\\n",
       "0    $$ - $$$              194.0   \n",
       "1    $$ - $$$               10.0   \n",
       "2        $$$$              688.0   \n",
       "3         NaN                3.0   \n",
       "4    $$ - $$$               84.0   \n",
       "\n",
       "                                             reviews  \\\n",
       "0  [['Good food at your doorstep', 'A good hotel ...   \n",
       "1  [['Unique cuisine', 'Delicious Nepalese food']...   \n",
       "2  [['Catch up with friends', 'Not exceptional'],...   \n",
       "3                                           [[], []]   \n",
       "4  [['Best place to try a Bavarian food', 'Nice b...   \n",
       "\n",
       "                                              url_ta     id_ta  \\\n",
       "0  /Restaurant_Review-g187147-d1912643-Reviews-R_...  d1912643   \n",
       "1  /Restaurant_Review-g189852-d7992032-Reviews-Bu...  d7992032   \n",
       "2  /Restaurant_Review-g186338-d8632781-Reviews-RO...  d8632781   \n",
       "3  /Restaurant_Review-g187323-d1358776-Reviews-Es...  d1358776   \n",
       "4  /Restaurant_Review-g187309-d6864963-Reviews-Au...  d6864963   \n",
       "\n",
       "                   data_comment  ranking_popularity  \n",
       "0   Reviewed February 14, 2020                  3.0  \n",
       "1   Reviewed February 27, 2020                  1.0  \n",
       "2          Reviewed 1 week ago                  1.0  \n",
       "3   Reviewed February 19, 2016                  2.0  \n",
       "4  Reviewed September 10, 2020                  1.0  "
      ]
     },
     "execution_count": 180,
     "metadata": {},
     "output_type": "execute_result"
    }
   ],
   "source": [
    "main_task_new.head()"
   ]
  },
  {
   "cell_type": "code",
   "execution_count": 181,
   "metadata": {},
   "outputs": [],
   "source": [
    "main_task_new['cuisine_style'] = main_task_new[['city', 'rating',\n",
    "                                                'cuisine_style']].apply(lambda row: rating_tester(row), axis=1)"
   ]
  },
  {
   "cell_type": "code",
   "execution_count": 182,
   "metadata": {},
   "outputs": [
    {
     "name": "stdout",
     "output_type": "stream",
     "text": [
      "<class 'pandas.core.frame.DataFrame'>\n",
      "RangeIndex: 39980 entries, 0 to 39979\n",
      "Data columns (total 13 columns):\n",
      " #   Column              Non-Null Count  Dtype  \n",
      "---  ------              --------------  -----  \n",
      " 0   Unnamed: 0          39980 non-null  int64  \n",
      " 1   restaurant_id       39980 non-null  object \n",
      " 2   city                39980 non-null  object \n",
      " 3   cuisine_style       39980 non-null  object \n",
      " 4   ranking             39980 non-null  float64\n",
      " 5   rating              39980 non-null  float64\n",
      " 6   price_range         32541 non-null  object \n",
      " 7   number_of_reviews   39646 non-null  float64\n",
      " 8   reviews             39980 non-null  object \n",
      " 9   url_ta              39980 non-null  object \n",
      " 10  id_ta               39980 non-null  object \n",
      " 11  data_comment        36177 non-null  object \n",
      " 12  ranking_popularity  39980 non-null  float64\n",
      "dtypes: float64(4), int64(1), object(8)\n",
      "memory usage: 4.0+ MB\n"
     ]
    }
   ],
   "source": [
    "# Видим, что в столбце cuisine_style пропусков нет.\n",
    "main_task_new.info()"
   ]
  },
  {
   "cell_type": "markdown",
   "metadata": {},
   "source": [
    "Видим, что где в столбце number_of_reviews есть пропуски, полностью заполнен столбец reviews в котором содержится информация как минимум о наличии одного комментария у ресторана. Будем действовать логикой, что если у ресторана нет комментариев в столбце reviews то в столбце number_of_reviews ставим 0, если есть хотя бы один комментарий ставим 1, если оба то 2. "
   ]
  },
  {
   "cell_type": "code",
   "execution_count": 183,
   "metadata": {},
   "outputs": [],
   "source": [
    "main_task_new['number_of_reviews'] = main_task_new[[\n",
    "    'number_of_reviews', 'reviews']].apply(lambda row: test_clean(row), axis=1)"
   ]
  },
  {
   "cell_type": "code",
   "execution_count": 184,
   "metadata": {},
   "outputs": [
    {
     "name": "stdout",
     "output_type": "stream",
     "text": [
      "<class 'pandas.core.frame.DataFrame'>\n",
      "RangeIndex: 39980 entries, 0 to 39979\n",
      "Data columns (total 13 columns):\n",
      " #   Column              Non-Null Count  Dtype  \n",
      "---  ------              --------------  -----  \n",
      " 0   Unnamed: 0          39980 non-null  int64  \n",
      " 1   restaurant_id       39980 non-null  object \n",
      " 2   city                39980 non-null  object \n",
      " 3   cuisine_style       39980 non-null  object \n",
      " 4   ranking             39980 non-null  float64\n",
      " 5   rating              39980 non-null  float64\n",
      " 6   price_range         32541 non-null  object \n",
      " 7   number_of_reviews   39980 non-null  float64\n",
      " 8   reviews             39980 non-null  object \n",
      " 9   url_ta              39980 non-null  object \n",
      " 10  id_ta               39980 non-null  object \n",
      " 11  data_comment        36177 non-null  object \n",
      " 12  ranking_popularity  39980 non-null  float64\n",
      "dtypes: float64(4), int64(1), object(8)\n",
      "memory usage: 4.0+ MB\n"
     ]
    }
   ],
   "source": [
    "main_task_new.info()"
   ]
  },
  {
   "cell_type": "code",
   "execution_count": 185,
   "metadata": {},
   "outputs": [
    {
     "data": {
      "text/html": [
       "<div>\n",
       "<style scoped>\n",
       "    .dataframe tbody tr th:only-of-type {\n",
       "        vertical-align: middle;\n",
       "    }\n",
       "\n",
       "    .dataframe tbody tr th {\n",
       "        vertical-align: top;\n",
       "    }\n",
       "\n",
       "    .dataframe thead th {\n",
       "        text-align: right;\n",
       "    }\n",
       "</style>\n",
       "<table border=\"1\" class=\"dataframe\">\n",
       "  <thead>\n",
       "    <tr style=\"text-align: right;\">\n",
       "      <th></th>\n",
       "      <th>Unnamed: 0</th>\n",
       "      <th>restaurant_id</th>\n",
       "      <th>city</th>\n",
       "      <th>cuisine_style</th>\n",
       "      <th>ranking</th>\n",
       "      <th>rating</th>\n",
       "      <th>price_range</th>\n",
       "      <th>number_of_reviews</th>\n",
       "      <th>reviews</th>\n",
       "      <th>url_ta</th>\n",
       "      <th>id_ta</th>\n",
       "      <th>data_comment</th>\n",
       "      <th>ranking_popularity</th>\n",
       "    </tr>\n",
       "  </thead>\n",
       "  <tbody>\n",
       "    <tr>\n",
       "      <th>0</th>\n",
       "      <td>0</td>\n",
       "      <td>id_5569</td>\n",
       "      <td>Paris</td>\n",
       "      <td>[European, French, International]</td>\n",
       "      <td>5570.0</td>\n",
       "      <td>3.5</td>\n",
       "      <td>$$ - $$$</td>\n",
       "      <td>194.0</td>\n",
       "      <td>[['Good food at your doorstep', 'A good hotel ...</td>\n",
       "      <td>/Restaurant_Review-g187147-d1912643-Reviews-R_...</td>\n",
       "      <td>d1912643</td>\n",
       "      <td>Reviewed February 14, 2020</td>\n",
       "      <td>3.0</td>\n",
       "    </tr>\n",
       "    <tr>\n",
       "      <th>1</th>\n",
       "      <td>1</td>\n",
       "      <td>id_1535</td>\n",
       "      <td>Stockholm</td>\n",
       "      <td>[Asian, Nepali]</td>\n",
       "      <td>1537.0</td>\n",
       "      <td>4.0</td>\n",
       "      <td>$$ - $$$</td>\n",
       "      <td>10.0</td>\n",
       "      <td>[['Unique cuisine', 'Delicious Nepalese food']...</td>\n",
       "      <td>/Restaurant_Review-g189852-d7992032-Reviews-Bu...</td>\n",
       "      <td>d7992032</td>\n",
       "      <td>Reviewed February 27, 2020</td>\n",
       "      <td>1.0</td>\n",
       "    </tr>\n",
       "    <tr>\n",
       "      <th>2</th>\n",
       "      <td>2</td>\n",
       "      <td>id_352</td>\n",
       "      <td>London</td>\n",
       "      <td>[Japanese, Sushi, Asian, Grill, Vegetarian Fri...</td>\n",
       "      <td>353.0</td>\n",
       "      <td>4.5</td>\n",
       "      <td>$$$$</td>\n",
       "      <td>688.0</td>\n",
       "      <td>[['Catch up with friends', 'Not exceptional'],...</td>\n",
       "      <td>/Restaurant_Review-g186338-d8632781-Reviews-RO...</td>\n",
       "      <td>d8632781</td>\n",
       "      <td>Reviewed 1 week ago</td>\n",
       "      <td>1.0</td>\n",
       "    </tr>\n",
       "    <tr>\n",
       "      <th>3</th>\n",
       "      <td>3</td>\n",
       "      <td>id_3456</td>\n",
       "      <td>Berlin</td>\n",
       "      <td>[Moroccan]</td>\n",
       "      <td>3458.0</td>\n",
       "      <td>5.0</td>\n",
       "      <td>NaN</td>\n",
       "      <td>3.0</td>\n",
       "      <td>[[], []]</td>\n",
       "      <td>/Restaurant_Review-g187323-d1358776-Reviews-Es...</td>\n",
       "      <td>d1358776</td>\n",
       "      <td>Reviewed February 19, 2016</td>\n",
       "      <td>2.0</td>\n",
       "    </tr>\n",
       "    <tr>\n",
       "      <th>4</th>\n",
       "      <td>4</td>\n",
       "      <td>id_615</td>\n",
       "      <td>Munich</td>\n",
       "      <td>[German, Central European, Vegetarian Friendly]</td>\n",
       "      <td>621.0</td>\n",
       "      <td>4.0</td>\n",
       "      <td>$$ - $$$</td>\n",
       "      <td>84.0</td>\n",
       "      <td>[['Best place to try a Bavarian food', 'Nice b...</td>\n",
       "      <td>/Restaurant_Review-g187309-d6864963-Reviews-Au...</td>\n",
       "      <td>d6864963</td>\n",
       "      <td>Reviewed September 10, 2020</td>\n",
       "      <td>1.0</td>\n",
       "    </tr>\n",
       "  </tbody>\n",
       "</table>\n",
       "</div>"
      ],
      "text/plain": [
       "   Unnamed: 0 restaurant_id       city  \\\n",
       "0           0       id_5569      Paris   \n",
       "1           1       id_1535  Stockholm   \n",
       "2           2        id_352     London   \n",
       "3           3       id_3456     Berlin   \n",
       "4           4        id_615     Munich   \n",
       "\n",
       "                                       cuisine_style  ranking  rating  \\\n",
       "0                  [European, French, International]   5570.0     3.5   \n",
       "1                                    [Asian, Nepali]   1537.0     4.0   \n",
       "2  [Japanese, Sushi, Asian, Grill, Vegetarian Fri...    353.0     4.5   \n",
       "3                                         [Moroccan]   3458.0     5.0   \n",
       "4    [German, Central European, Vegetarian Friendly]    621.0     4.0   \n",
       "\n",
       "  price_range  number_of_reviews  \\\n",
       "0    $$ - $$$              194.0   \n",
       "1    $$ - $$$               10.0   \n",
       "2        $$$$              688.0   \n",
       "3         NaN                3.0   \n",
       "4    $$ - $$$               84.0   \n",
       "\n",
       "                                             reviews  \\\n",
       "0  [['Good food at your doorstep', 'A good hotel ...   \n",
       "1  [['Unique cuisine', 'Delicious Nepalese food']...   \n",
       "2  [['Catch up with friends', 'Not exceptional'],...   \n",
       "3                                           [[], []]   \n",
       "4  [['Best place to try a Bavarian food', 'Nice b...   \n",
       "\n",
       "                                              url_ta     id_ta  \\\n",
       "0  /Restaurant_Review-g187147-d1912643-Reviews-R_...  d1912643   \n",
       "1  /Restaurant_Review-g189852-d7992032-Reviews-Bu...  d7992032   \n",
       "2  /Restaurant_Review-g186338-d8632781-Reviews-RO...  d8632781   \n",
       "3  /Restaurant_Review-g187323-d1358776-Reviews-Es...  d1358776   \n",
       "4  /Restaurant_Review-g187309-d6864963-Reviews-Au...  d6864963   \n",
       "\n",
       "                   data_comment  ranking_popularity  \n",
       "0   Reviewed February 14, 2020                  3.0  \n",
       "1   Reviewed February 27, 2020                  1.0  \n",
       "2          Reviewed 1 week ago                  1.0  \n",
       "3   Reviewed February 19, 2016                  2.0  \n",
       "4  Reviewed September 10, 2020                  1.0  "
      ]
     },
     "execution_count": 185,
     "metadata": {},
     "output_type": "execute_result"
    }
   ],
   "source": [
    "main_task_new.head()"
   ]
  },
  {
   "cell_type": "markdown",
   "metadata": {},
   "source": [
    "СОздаём словарь со средним рейтингом для каждой кухни и верояного чека"
   ]
  },
  {
   "cell_type": "code",
   "execution_count": 186,
   "metadata": {},
   "outputs": [
    {
     "data": {
      "text/plain": [
       "0        None\n",
       "1        None\n",
       "2        None\n",
       "3        None\n",
       "4        None\n",
       "         ... \n",
       "39975    None\n",
       "39976    None\n",
       "39977    None\n",
       "39978    None\n",
       "39979    None\n",
       "Length: 39980, dtype: object"
      ]
     },
     "execution_count": 186,
     "metadata": {},
     "output_type": "execute_result"
    }
   ],
   "source": [
    "price_range_dict = dict()\n",
    "main_task_new[['city', 'price_range', 'number_of_reviews']].apply(\n",
    "    lambda row: price_range_count_preparation(row), axis=1)"
   ]
  },
  {
   "cell_type": "markdown",
   "metadata": {},
   "source": [
    "Приводим словарь в нужный вид"
   ]
  },
  {
   "cell_type": "code",
   "execution_count": 187,
   "metadata": {},
   "outputs": [],
   "source": [
    "price_range_dict_def(price_range_dict)"
   ]
  },
  {
   "cell_type": "markdown",
   "metadata": {},
   "source": [
    "Подсавляем значения"
   ]
  },
  {
   "cell_type": "code",
   "execution_count": 188,
   "metadata": {},
   "outputs": [],
   "source": [
    "main_task_new['price_range'].fillna(value=np.nan, inplace=True)\n",
    "main_task_new['price_range'] = main_task_new[['city', 'price_range',\n",
    "                                              'number_of_reviews']].apply(lambda row: price_range_count1(row), axis=1)"
   ]
  },
  {
   "cell_type": "code",
   "execution_count": 189,
   "metadata": {},
   "outputs": [
    {
     "name": "stdout",
     "output_type": "stream",
     "text": [
      "<class 'pandas.core.frame.DataFrame'>\n",
      "Int64Index: 39978 entries, 0 to 39979\n",
      "Data columns (total 13 columns):\n",
      " #   Column              Non-Null Count  Dtype  \n",
      "---  ------              --------------  -----  \n",
      " 0   Unnamed: 0          39978 non-null  int64  \n",
      " 1   restaurant_id       39978 non-null  object \n",
      " 2   city                39978 non-null  object \n",
      " 3   cuisine_style       39978 non-null  object \n",
      " 4   ranking             39978 non-null  float64\n",
      " 5   rating              39978 non-null  float64\n",
      " 6   price_range         39978 non-null  object \n",
      " 7   number_of_reviews   39978 non-null  float64\n",
      " 8   reviews             39978 non-null  object \n",
      " 9   url_ta              39978 non-null  object \n",
      " 10  id_ta               39978 non-null  object \n",
      " 11  data_comment        36177 non-null  object \n",
      " 12  ranking_popularity  39978 non-null  float64\n",
      "dtypes: float64(4), int64(1), object(8)\n",
      "memory usage: 4.3+ MB\n"
     ]
    }
   ],
   "source": [
    "main_task_new = main_task_new.dropna(subset=['price_range'], axis=0)\n",
    "main_task_new.info()"
   ]
  },
  {
   "cell_type": "code",
   "execution_count": 190,
   "metadata": {},
   "outputs": [
    {
     "data": {
      "text/html": [
       "<div>\n",
       "<style scoped>\n",
       "    .dataframe tbody tr th:only-of-type {\n",
       "        vertical-align: middle;\n",
       "    }\n",
       "\n",
       "    .dataframe tbody tr th {\n",
       "        vertical-align: top;\n",
       "    }\n",
       "\n",
       "    .dataframe thead th {\n",
       "        text-align: right;\n",
       "    }\n",
       "</style>\n",
       "<table border=\"1\" class=\"dataframe\">\n",
       "  <thead>\n",
       "    <tr style=\"text-align: right;\">\n",
       "      <th></th>\n",
       "      <th>Unnamed: 0</th>\n",
       "      <th>restaurant_id</th>\n",
       "      <th>city</th>\n",
       "      <th>cuisine_style</th>\n",
       "      <th>ranking</th>\n",
       "      <th>rating</th>\n",
       "      <th>price_range</th>\n",
       "      <th>number_of_reviews</th>\n",
       "      <th>reviews</th>\n",
       "      <th>url_ta</th>\n",
       "      <th>id_ta</th>\n",
       "      <th>data_comment</th>\n",
       "      <th>ranking_popularity</th>\n",
       "    </tr>\n",
       "  </thead>\n",
       "  <tbody>\n",
       "    <tr>\n",
       "      <th>0</th>\n",
       "      <td>0</td>\n",
       "      <td>id_5569</td>\n",
       "      <td>Paris</td>\n",
       "      <td>[European, French, International]</td>\n",
       "      <td>5570.0</td>\n",
       "      <td>3.5</td>\n",
       "      <td>$$ - $$$</td>\n",
       "      <td>194.0</td>\n",
       "      <td>[['Good food at your doorstep', 'A good hotel ...</td>\n",
       "      <td>/Restaurant_Review-g187147-d1912643-Reviews-R_...</td>\n",
       "      <td>d1912643</td>\n",
       "      <td>Reviewed February 14, 2020</td>\n",
       "      <td>3.0</td>\n",
       "    </tr>\n",
       "    <tr>\n",
       "      <th>1</th>\n",
       "      <td>1</td>\n",
       "      <td>id_1535</td>\n",
       "      <td>Stockholm</td>\n",
       "      <td>[Asian, Nepali]</td>\n",
       "      <td>1537.0</td>\n",
       "      <td>4.0</td>\n",
       "      <td>$$ - $$$</td>\n",
       "      <td>10.0</td>\n",
       "      <td>[['Unique cuisine', 'Delicious Nepalese food']...</td>\n",
       "      <td>/Restaurant_Review-g189852-d7992032-Reviews-Bu...</td>\n",
       "      <td>d7992032</td>\n",
       "      <td>Reviewed February 27, 2020</td>\n",
       "      <td>1.0</td>\n",
       "    </tr>\n",
       "    <tr>\n",
       "      <th>2</th>\n",
       "      <td>2</td>\n",
       "      <td>id_352</td>\n",
       "      <td>London</td>\n",
       "      <td>[Japanese, Sushi, Asian, Grill, Vegetarian Fri...</td>\n",
       "      <td>353.0</td>\n",
       "      <td>4.5</td>\n",
       "      <td>$$$$</td>\n",
       "      <td>688.0</td>\n",
       "      <td>[['Catch up with friends', 'Not exceptional'],...</td>\n",
       "      <td>/Restaurant_Review-g186338-d8632781-Reviews-RO...</td>\n",
       "      <td>d8632781</td>\n",
       "      <td>Reviewed 1 week ago</td>\n",
       "      <td>1.0</td>\n",
       "    </tr>\n",
       "    <tr>\n",
       "      <th>3</th>\n",
       "      <td>3</td>\n",
       "      <td>id_3456</td>\n",
       "      <td>Berlin</td>\n",
       "      <td>[Moroccan]</td>\n",
       "      <td>3458.0</td>\n",
       "      <td>5.0</td>\n",
       "      <td>$</td>\n",
       "      <td>3.0</td>\n",
       "      <td>[[], []]</td>\n",
       "      <td>/Restaurant_Review-g187323-d1358776-Reviews-Es...</td>\n",
       "      <td>d1358776</td>\n",
       "      <td>Reviewed February 19, 2016</td>\n",
       "      <td>2.0</td>\n",
       "    </tr>\n",
       "    <tr>\n",
       "      <th>4</th>\n",
       "      <td>4</td>\n",
       "      <td>id_615</td>\n",
       "      <td>Munich</td>\n",
       "      <td>[German, Central European, Vegetarian Friendly]</td>\n",
       "      <td>621.0</td>\n",
       "      <td>4.0</td>\n",
       "      <td>$$ - $$$</td>\n",
       "      <td>84.0</td>\n",
       "      <td>[['Best place to try a Bavarian food', 'Nice b...</td>\n",
       "      <td>/Restaurant_Review-g187309-d6864963-Reviews-Au...</td>\n",
       "      <td>d6864963</td>\n",
       "      <td>Reviewed September 10, 2020</td>\n",
       "      <td>1.0</td>\n",
       "    </tr>\n",
       "    <tr>\n",
       "      <th>...</th>\n",
       "      <td>...</td>\n",
       "      <td>...</td>\n",
       "      <td>...</td>\n",
       "      <td>...</td>\n",
       "      <td>...</td>\n",
       "      <td>...</td>\n",
       "      <td>...</td>\n",
       "      <td>...</td>\n",
       "      <td>...</td>\n",
       "      <td>...</td>\n",
       "      <td>...</td>\n",
       "      <td>...</td>\n",
       "      <td>...</td>\n",
       "    </tr>\n",
       "    <tr>\n",
       "      <th>39975</th>\n",
       "      <td>39995</td>\n",
       "      <td>id_499</td>\n",
       "      <td>Milan</td>\n",
       "      <td>[Italian, Vegetarian Friendly, Vegan Options, ...</td>\n",
       "      <td>500.0</td>\n",
       "      <td>4.5</td>\n",
       "      <td>$$ - $$$</td>\n",
       "      <td>79.0</td>\n",
       "      <td>[['The real Italian experience!', 'Wonderful f...</td>\n",
       "      <td>/Restaurant_Review-g187849-d2104414-Reviews-Ro...</td>\n",
       "      <td>d2104414</td>\n",
       "      <td>Reviewed 1 week ago</td>\n",
       "      <td>1.0</td>\n",
       "    </tr>\n",
       "    <tr>\n",
       "      <th>39976</th>\n",
       "      <td>39996</td>\n",
       "      <td>id_6340</td>\n",
       "      <td>Paris</td>\n",
       "      <td>[French, American, Bar, European, Vegetarian F...</td>\n",
       "      <td>6341.0</td>\n",
       "      <td>3.5</td>\n",
       "      <td>$$ - $$$</td>\n",
       "      <td>542.0</td>\n",
       "      <td>[['Parisian atmosphere', 'Bit pricey but inter...</td>\n",
       "      <td>/Restaurant_Review-g187147-d1800036-Reviews-La...</td>\n",
       "      <td>d1800036</td>\n",
       "      <td>Reviewed April 7, 2020</td>\n",
       "      <td>3.0</td>\n",
       "    </tr>\n",
       "    <tr>\n",
       "      <th>39977</th>\n",
       "      <td>39997</td>\n",
       "      <td>id_1649</td>\n",
       "      <td>Stockholm</td>\n",
       "      <td>[Japanese, Sushi]</td>\n",
       "      <td>1652.0</td>\n",
       "      <td>4.5</td>\n",
       "      <td>$</td>\n",
       "      <td>4.0</td>\n",
       "      <td>[['Good by swedish standards', 'A hidden jewel...</td>\n",
       "      <td>/Restaurant_Review-g189852-d947615-Reviews-Sus...</td>\n",
       "      <td>d947615</td>\n",
       "      <td>Reviewed November 3, 2016</td>\n",
       "      <td>1.0</td>\n",
       "    </tr>\n",
       "    <tr>\n",
       "      <th>39978</th>\n",
       "      <td>39998</td>\n",
       "      <td>id_640</td>\n",
       "      <td>Warsaw</td>\n",
       "      <td>[Polish, European, Eastern European, Central E...</td>\n",
       "      <td>641.0</td>\n",
       "      <td>4.0</td>\n",
       "      <td>$$ - $$$</td>\n",
       "      <td>70.0</td>\n",
       "      <td>[['Underground restaurant', 'Oldest Restaurant...</td>\n",
       "      <td>/Restaurant_Review-g274856-d1100838-Reviews-Ho...</td>\n",
       "      <td>d1100838</td>\n",
       "      <td>Reviewed June 11, 2019</td>\n",
       "      <td>1.0</td>\n",
       "    </tr>\n",
       "    <tr>\n",
       "      <th>39979</th>\n",
       "      <td>39999</td>\n",
       "      <td>id_4824</td>\n",
       "      <td>Milan</td>\n",
       "      <td>[Spanish]</td>\n",
       "      <td>4827.0</td>\n",
       "      <td>3.0</td>\n",
       "      <td>$$ - $$$</td>\n",
       "      <td>260.0</td>\n",
       "      <td>[['Average', 'Nice an informal'], ['01/31/2016...</td>\n",
       "      <td>/Restaurant_Review-g187849-d1109020-Reviews-Ta...</td>\n",
       "      <td>d1109020</td>\n",
       "      <td>Reviewed August 12, 2018</td>\n",
       "      <td>2.0</td>\n",
       "    </tr>\n",
       "  </tbody>\n",
       "</table>\n",
       "<p>39978 rows × 13 columns</p>\n",
       "</div>"
      ],
      "text/plain": [
       "       Unnamed: 0 restaurant_id       city  \\\n",
       "0               0       id_5569      Paris   \n",
       "1               1       id_1535  Stockholm   \n",
       "2               2        id_352     London   \n",
       "3               3       id_3456     Berlin   \n",
       "4               4        id_615     Munich   \n",
       "...           ...           ...        ...   \n",
       "39975       39995        id_499      Milan   \n",
       "39976       39996       id_6340      Paris   \n",
       "39977       39997       id_1649  Stockholm   \n",
       "39978       39998        id_640     Warsaw   \n",
       "39979       39999       id_4824      Milan   \n",
       "\n",
       "                                           cuisine_style  ranking  rating  \\\n",
       "0                      [European, French, International]   5570.0     3.5   \n",
       "1                                        [Asian, Nepali]   1537.0     4.0   \n",
       "2      [Japanese, Sushi, Asian, Grill, Vegetarian Fri...    353.0     4.5   \n",
       "3                                             [Moroccan]   3458.0     5.0   \n",
       "4        [German, Central European, Vegetarian Friendly]    621.0     4.0   \n",
       "...                                                  ...      ...     ...   \n",
       "39975  [Italian, Vegetarian Friendly, Vegan Options, ...    500.0     4.5   \n",
       "39976  [French, American, Bar, European, Vegetarian F...   6341.0     3.5   \n",
       "39977                                  [Japanese, Sushi]   1652.0     4.5   \n",
       "39978  [Polish, European, Eastern European, Central E...    641.0     4.0   \n",
       "39979                                          [Spanish]   4827.0     3.0   \n",
       "\n",
       "      price_range  number_of_reviews  \\\n",
       "0        $$ - $$$              194.0   \n",
       "1        $$ - $$$               10.0   \n",
       "2            $$$$              688.0   \n",
       "3               $                3.0   \n",
       "4        $$ - $$$               84.0   \n",
       "...           ...                ...   \n",
       "39975    $$ - $$$               79.0   \n",
       "39976    $$ - $$$              542.0   \n",
       "39977           $                4.0   \n",
       "39978    $$ - $$$               70.0   \n",
       "39979    $$ - $$$              260.0   \n",
       "\n",
       "                                                 reviews  \\\n",
       "0      [['Good food at your doorstep', 'A good hotel ...   \n",
       "1      [['Unique cuisine', 'Delicious Nepalese food']...   \n",
       "2      [['Catch up with friends', 'Not exceptional'],...   \n",
       "3                                               [[], []]   \n",
       "4      [['Best place to try a Bavarian food', 'Nice b...   \n",
       "...                                                  ...   \n",
       "39975  [['The real Italian experience!', 'Wonderful f...   \n",
       "39976  [['Parisian atmosphere', 'Bit pricey but inter...   \n",
       "39977  [['Good by swedish standards', 'A hidden jewel...   \n",
       "39978  [['Underground restaurant', 'Oldest Restaurant...   \n",
       "39979  [['Average', 'Nice an informal'], ['01/31/2016...   \n",
       "\n",
       "                                                  url_ta     id_ta  \\\n",
       "0      /Restaurant_Review-g187147-d1912643-Reviews-R_...  d1912643   \n",
       "1      /Restaurant_Review-g189852-d7992032-Reviews-Bu...  d7992032   \n",
       "2      /Restaurant_Review-g186338-d8632781-Reviews-RO...  d8632781   \n",
       "3      /Restaurant_Review-g187323-d1358776-Reviews-Es...  d1358776   \n",
       "4      /Restaurant_Review-g187309-d6864963-Reviews-Au...  d6864963   \n",
       "...                                                  ...       ...   \n",
       "39975  /Restaurant_Review-g187849-d2104414-Reviews-Ro...  d2104414   \n",
       "39976  /Restaurant_Review-g187147-d1800036-Reviews-La...  d1800036   \n",
       "39977  /Restaurant_Review-g189852-d947615-Reviews-Sus...   d947615   \n",
       "39978  /Restaurant_Review-g274856-d1100838-Reviews-Ho...  d1100838   \n",
       "39979  /Restaurant_Review-g187849-d1109020-Reviews-Ta...  d1109020   \n",
       "\n",
       "                       data_comment  ranking_popularity  \n",
       "0       Reviewed February 14, 2020                  3.0  \n",
       "1       Reviewed February 27, 2020                  1.0  \n",
       "2              Reviewed 1 week ago                  1.0  \n",
       "3       Reviewed February 19, 2016                  2.0  \n",
       "4      Reviewed September 10, 2020                  1.0  \n",
       "...                             ...                 ...  \n",
       "39975          Reviewed 1 week ago                  1.0  \n",
       "39976       Reviewed April 7, 2020                  3.0  \n",
       "39977    Reviewed November 3, 2016                  1.0  \n",
       "39978       Reviewed June 11, 2019                  1.0  \n",
       "39979     Reviewed August 12, 2018                  2.0  \n",
       "\n",
       "[39978 rows x 13 columns]"
      ]
     },
     "execution_count": 190,
     "metadata": {},
     "output_type": "execute_result"
    }
   ],
   "source": [
    "main_task_new"
   ]
  },
  {
   "cell_type": "markdown",
   "metadata": {},
   "source": [
    "## Создаем доп столбцы на основе концепции dummy variables"
   ]
  },
  {
   "cell_type": "markdown",
   "metadata": {},
   "source": [
    "Создаём множество из уникальных кухонь"
   ]
  },
  {
   "cell_type": "code",
   "execution_count": 191,
   "metadata": {},
   "outputs": [],
   "source": [
    "kitchen_set = set()\n",
    "for kitchens in main_task_new['cuisine_style']:\n",
    "    for kitchen in kitchens:\n",
    "        kitchen_set.add(kitchen)"
   ]
  },
  {
   "cell_type": "markdown",
   "metadata": {},
   "source": [
    "Создаём категориальные признаки по концепции dummy variables"
   ]
  },
  {
   "cell_type": "code",
   "execution_count": 192,
   "metadata": {},
   "outputs": [],
   "source": [
    "for item in kitchen_set:\n",
    "    main_task_new[item] = main_task_new['cuisine_style'].apply(find_item)\n",
    "main_task_new['cuisine_style'] = main_task_new['cuisine_style'].apply(\n",
    "    lambda x: len(x))"
   ]
  },
  {
   "cell_type": "code",
   "execution_count": 193,
   "metadata": {},
   "outputs": [],
   "source": [
    "main_task_new['price_range'] = main_task_new['price_range'].apply(\n",
    "    lambda price_range: price_range_number(price_range))"
   ]
  },
  {
   "cell_type": "code",
   "execution_count": 194,
   "metadata": {},
   "outputs": [],
   "source": [
    "main_task_new = pd.get_dummies(main_task_new, columns=[\n",
    "                               'city', ], dummy_na=True)"
   ]
  },
  {
   "cell_type": "code",
   "execution_count": 195,
   "metadata": {},
   "outputs": [],
   "source": [
    "object_columns = [\n",
    "    s for s in main_task_new.columns if main_task_new[s].dtypes == 'object']\n",
    "main_task_new.drop(object_columns, axis=1, inplace=True)"
   ]
  },
  {
   "cell_type": "markdown",
   "metadata": {},
   "source": [
    "# Разбиваем датафрейм на части, необходимые для обучения и тестирования модели"
   ]
  },
  {
   "cell_type": "code",
   "execution_count": 196,
   "metadata": {},
   "outputs": [],
   "source": [
    "# Х - данные с информацией о ресторанах, у - целевая переменная (рейтинги ресторанов)\n",
    "X = main_task_new.drop(['rating'], axis=1)\n",
    "y = main_task_new['rating']"
   ]
  },
  {
   "cell_type": "code",
   "execution_count": 197,
   "metadata": {},
   "outputs": [],
   "source": [
    "# Загружаем специальный инструмент для разбивки:\n",
    "from sklearn.model_selection import train_test_split"
   ]
  },
  {
   "cell_type": "code",
   "execution_count": 198,
   "metadata": {},
   "outputs": [],
   "source": [
    "# Наборы данных с меткой \"train\" будут использоваться для обучения модели, \"test\" - для тестирования.\n",
    "# Для тестирования мы будем использовать 25% от исходного датасета.\n",
    "X_train, X_test, y_train, y_test = train_test_split(X, y, test_size=0.25)"
   ]
  },
  {
   "cell_type": "markdown",
   "metadata": {},
   "source": [
    "# Создаём, обучаем и тестируем модель"
   ]
  },
  {
   "cell_type": "code",
   "execution_count": 199,
   "metadata": {},
   "outputs": [],
   "source": [
    "# Импортируем необходимые библиотеки:\n",
    "from sklearn.ensemble import RandomForestRegressor # инструмент для создания и обучения модели\n",
    "from sklearn import metrics # инструменты для оценки точности модели"
   ]
  },
  {
   "cell_type": "code",
   "execution_count": 200,
   "metadata": {},
   "outputs": [],
   "source": [
    "# Создаём модель\n",
    "regr = RandomForestRegressor(n_estimators=100)\n",
    "\n",
    "# Обучаем модель на тестовом наборе данных\n",
    "regr.fit(X_train, y_train)\n",
    "\n",
    "# Используем обученную модель для предсказания рейтинга ресторанов в тестовой выборке.\n",
    "# Предсказанные значения записываем в переменную y_pred\n",
    "y_pred = regr.predict(X_test)"
   ]
  },
  {
   "cell_type": "code",
   "execution_count": 201,
   "metadata": {},
   "outputs": [
    {
     "data": {
      "text/plain": [
       "<matplotlib.axes._subplots.AxesSubplot at 0x1ffd31a4408>"
      ]
     },
     "execution_count": 201,
     "metadata": {},
     "output_type": "execute_result"
    },
    {
     "data": {
      "image/png": "[encoded data removed]",
      "text/plain": [
       "<Figure size 720x720 with 1 Axes>"
      ]
     },
     "metadata": {
      "needs_background": "light"
     },
     "output_type": "display_data"
    }
   ],
   "source": [
    "\n",
    "plt.rcParams['figure.figsize'] = (10,10)\n",
    "feat_importances = pd.Series(regr.feature_importances_, index=X.columns)\n",
    "feat_importances.nlargest(15).plot(kind='barh')"
   ]
  },
  {
   "cell_type": "code",
   "execution_count": 202,
   "metadata": {},
   "outputs": [
    {
     "name": "stdout",
     "output_type": "stream",
     "text": [
      "MAE: 0.2163881940970485\n"
     ]
    }
   ],
   "source": [
    "# Сравниваем предсказанные значения (y_pred) с реальными (y_test), и смотрим насколько они в среднем отличаются\n",
    "# Метрика называется Mean Absolute Error (MAE) и показывает среднее отклонение предсказанных значений от фактических.\n",
    "print('MAE:', metrics.mean_absolute_error(y_test, y_pred))"
   ]
  },
  {
   "cell_type": "code",
   "execution_count": 203,
   "metadata": {},
   "outputs": [
    {
     "name": "stdout",
     "output_type": "stream",
     "text": [
      "<class 'pandas.core.frame.DataFrame'>\n",
      "Int64Index: 39978 entries, 0 to 39979\n",
      "Columns: 186 entries, Unnamed: 0 to city_nan\n",
      "dtypes: float64(3), int64(151), uint8(32)\n",
      "memory usage: 48.5 MB\n"
     ]
    }
   ],
   "source": [
    "X.info()"
   ]
  },
  {
   "cell_type": "markdown",
   "metadata": {},
   "source": [
    "## Главный вывод\n",
    "\n",
    "После всех проделанных операций и возможности уменьшить МАЕ более чем в 2 раза по сравнению с первоначальным значением, можно сделать вывод, что концепция и решения, разработанные к данному конкретному кейсу вполне жизнеспособны. Благодаря подключению внешних источников информации и обработки большей части пропусков с преминением концепции dummy variables удалось добиться вполне приемлемого результата."
   ]
  }
 ],
 "metadata": {
  "kernelspec": {
   "display_name": "Python 3",
   "language": "python",
   "name": "python3"
  },
  "language_info": {
   "codemirror_mode": {
    "name": "ipython",
    "version": 3
   },
   "file_extension": ".py",
   "mimetype": "text/x-python",
   "name": "python",
   "nbconvert_exporter": "python",
   "pygments_lexer": "ipython3",
   "version": "3.7.6"
  }
 },
 "nbformat": 4,
 "nbformat_minor": 4
}
